{
 "cells": [
  {
   "cell_type": "markdown",
   "id": "eb13b747",
   "metadata": {},
   "source": [
    "# Face-Mask Detection Project"
   ]
  },
  {
   "cell_type": "markdown",
   "id": "26a55cd3",
   "metadata": {},
   "source": [
    "## Import necessary libraries"
   ]
  },
  {
   "cell_type": "code",
   "execution_count": 1,
   "id": "f216142f",
   "metadata": {},
   "outputs": [],
   "source": [
    "import pandas as pd\n",
    "import matplotlib.pyplot as plt\n",
    "import seaborn as sns\n",
    "import numpy as np\n",
    "%matplotlib inline"
   ]
  },
  {
   "cell_type": "markdown",
   "id": "6b8989f2",
   "metadata": {},
   "source": [
    "## Read csv"
   ]
  },
  {
   "cell_type": "code",
   "execution_count": 2,
   "id": "db0cfd25",
   "metadata": {},
   "outputs": [],
   "source": [
    "mask = pd.read_csv('mask.csv')"
   ]
  },
  {
   "cell_type": "markdown",
   "id": "aaa1387c",
   "metadata": {},
   "source": [
    "## Check out .info() and .head()"
   ]
  },
  {
   "cell_type": "code",
   "execution_count": 3,
   "id": "ec6d5bd9",
   "metadata": {},
   "outputs": [
    {
     "name": "stdout",
     "output_type": "stream",
     "text": [
      "<class 'pandas.core.frame.DataFrame'>\n",
      "RangeIndex: 1000 entries, 0 to 999\n",
      "Columns: 9181 entries, 0 to 9180\n",
      "dtypes: float64(9180), int64(1)\n",
      "memory usage: 70.0 MB\n"
     ]
    }
   ],
   "source": [
    "mask.info()"
   ]
  },
  {
   "cell_type": "code",
   "execution_count": 4,
   "id": "2b850506",
   "metadata": {
    "scrolled": false
   },
   "outputs": [
    {
     "data": {
      "text/html": [
       "<div>\n",
       "<style scoped>\n",
       "    .dataframe tbody tr th:only-of-type {\n",
       "        vertical-align: middle;\n",
       "    }\n",
       "\n",
       "    .dataframe tbody tr th {\n",
       "        vertical-align: top;\n",
       "    }\n",
       "\n",
       "    .dataframe thead th {\n",
       "        text-align: right;\n",
       "    }\n",
       "</style>\n",
       "<table border=\"1\" class=\"dataframe\">\n",
       "  <thead>\n",
       "    <tr style=\"text-align: right;\">\n",
       "      <th></th>\n",
       "      <th>0</th>\n",
       "      <th>1</th>\n",
       "      <th>2</th>\n",
       "      <th>3</th>\n",
       "      <th>4</th>\n",
       "      <th>5</th>\n",
       "      <th>6</th>\n",
       "      <th>7</th>\n",
       "      <th>8</th>\n",
       "      <th>9</th>\n",
       "      <th>...</th>\n",
       "      <th>9171</th>\n",
       "      <th>9172</th>\n",
       "      <th>9173</th>\n",
       "      <th>9174</th>\n",
       "      <th>9175</th>\n",
       "      <th>9176</th>\n",
       "      <th>9177</th>\n",
       "      <th>9178</th>\n",
       "      <th>9179</th>\n",
       "      <th>9180</th>\n",
       "    </tr>\n",
       "  </thead>\n",
       "  <tbody>\n",
       "    <tr>\n",
       "      <th>0</th>\n",
       "      <td>0.019729</td>\n",
       "      <td>0.0</td>\n",
       "      <td>0.000000</td>\n",
       "      <td>0.0</td>\n",
       "      <td>0.374858</td>\n",
       "      <td>0.0</td>\n",
       "      <td>0.0</td>\n",
       "      <td>0.0</td>\n",
       "      <td>0.224950</td>\n",
       "      <td>0.218656</td>\n",
       "      <td>...</td>\n",
       "      <td>0.305085</td>\n",
       "      <td>0.0</td>\n",
       "      <td>0.0</td>\n",
       "      <td>0.0</td>\n",
       "      <td>0.097073</td>\n",
       "      <td>0.0</td>\n",
       "      <td>0.0</td>\n",
       "      <td>0.0</td>\n",
       "      <td>0.306970</td>\n",
       "      <td>0</td>\n",
       "    </tr>\n",
       "    <tr>\n",
       "      <th>1</th>\n",
       "      <td>0.357632</td>\n",
       "      <td>0.0</td>\n",
       "      <td>0.000000</td>\n",
       "      <td>0.0</td>\n",
       "      <td>0.040487</td>\n",
       "      <td>0.0</td>\n",
       "      <td>0.0</td>\n",
       "      <td>0.0</td>\n",
       "      <td>0.425324</td>\n",
       "      <td>0.216824</td>\n",
       "      <td>...</td>\n",
       "      <td>0.254187</td>\n",
       "      <td>0.0</td>\n",
       "      <td>0.0</td>\n",
       "      <td>0.0</td>\n",
       "      <td>0.061355</td>\n",
       "      <td>0.0</td>\n",
       "      <td>0.0</td>\n",
       "      <td>0.0</td>\n",
       "      <td>0.211999</td>\n",
       "      <td>0</td>\n",
       "    </tr>\n",
       "    <tr>\n",
       "      <th>2</th>\n",
       "      <td>0.217539</td>\n",
       "      <td>0.0</td>\n",
       "      <td>0.000000</td>\n",
       "      <td>0.0</td>\n",
       "      <td>0.174031</td>\n",
       "      <td>0.0</td>\n",
       "      <td>0.0</td>\n",
       "      <td>0.0</td>\n",
       "      <td>0.000000</td>\n",
       "      <td>0.188533</td>\n",
       "      <td>...</td>\n",
       "      <td>0.646282</td>\n",
       "      <td>0.0</td>\n",
       "      <td>0.0</td>\n",
       "      <td>0.0</td>\n",
       "      <td>0.020005</td>\n",
       "      <td>0.0</td>\n",
       "      <td>0.0</td>\n",
       "      <td>0.0</td>\n",
       "      <td>0.000000</td>\n",
       "      <td>0</td>\n",
       "    </tr>\n",
       "    <tr>\n",
       "      <th>3</th>\n",
       "      <td>0.496119</td>\n",
       "      <td>0.0</td>\n",
       "      <td>0.000000</td>\n",
       "      <td>0.0</td>\n",
       "      <td>0.035437</td>\n",
       "      <td>0.0</td>\n",
       "      <td>0.0</td>\n",
       "      <td>0.0</td>\n",
       "      <td>0.456059</td>\n",
       "      <td>0.132889</td>\n",
       "      <td>...</td>\n",
       "      <td>0.546041</td>\n",
       "      <td>0.0</td>\n",
       "      <td>0.0</td>\n",
       "      <td>0.0</td>\n",
       "      <td>0.167156</td>\n",
       "      <td>0.0</td>\n",
       "      <td>0.0</td>\n",
       "      <td>0.0</td>\n",
       "      <td>0.485039</td>\n",
       "      <td>0</td>\n",
       "    </tr>\n",
       "    <tr>\n",
       "      <th>4</th>\n",
       "      <td>0.047158</td>\n",
       "      <td>0.0</td>\n",
       "      <td>0.211482</td>\n",
       "      <td>0.0</td>\n",
       "      <td>0.000000</td>\n",
       "      <td>0.0</td>\n",
       "      <td>0.0</td>\n",
       "      <td>0.0</td>\n",
       "      <td>0.000000</td>\n",
       "      <td>0.644492</td>\n",
       "      <td>...</td>\n",
       "      <td>0.231750</td>\n",
       "      <td>0.0</td>\n",
       "      <td>0.0</td>\n",
       "      <td>0.0</td>\n",
       "      <td>0.073739</td>\n",
       "      <td>0.0</td>\n",
       "      <td>0.0</td>\n",
       "      <td>0.0</td>\n",
       "      <td>0.320382</td>\n",
       "      <td>0</td>\n",
       "    </tr>\n",
       "  </tbody>\n",
       "</table>\n",
       "<p>5 rows × 9181 columns</p>\n",
       "</div>"
      ],
      "text/plain": [
       "          0    1         2    3         4    5    6    7         8         9  \\\n",
       "0  0.019729  0.0  0.000000  0.0  0.374858  0.0  0.0  0.0  0.224950  0.218656   \n",
       "1  0.357632  0.0  0.000000  0.0  0.040487  0.0  0.0  0.0  0.425324  0.216824   \n",
       "2  0.217539  0.0  0.000000  0.0  0.174031  0.0  0.0  0.0  0.000000  0.188533   \n",
       "3  0.496119  0.0  0.000000  0.0  0.035437  0.0  0.0  0.0  0.456059  0.132889   \n",
       "4  0.047158  0.0  0.211482  0.0  0.000000  0.0  0.0  0.0  0.000000  0.644492   \n",
       "\n",
       "   ...      9171  9172  9173  9174      9175  9176  9177  9178      9179  9180  \n",
       "0  ...  0.305085   0.0   0.0   0.0  0.097073   0.0   0.0   0.0  0.306970     0  \n",
       "1  ...  0.254187   0.0   0.0   0.0  0.061355   0.0   0.0   0.0  0.211999     0  \n",
       "2  ...  0.646282   0.0   0.0   0.0  0.020005   0.0   0.0   0.0  0.000000     0  \n",
       "3  ...  0.546041   0.0   0.0   0.0  0.167156   0.0   0.0   0.0  0.485039     0  \n",
       "4  ...  0.231750   0.0   0.0   0.0  0.073739   0.0   0.0   0.0  0.320382     0  \n",
       "\n",
       "[5 rows x 9181 columns]"
      ]
     },
     "execution_count": 4,
     "metadata": {},
     "output_type": "execute_result"
    }
   ],
   "source": [
    "mask.head()"
   ]
  },
  {
   "cell_type": "markdown",
   "id": "a5b1e103",
   "metadata": {},
   "source": [
    "## Rename the last column with 'Target Class' tag\n",
    "This column contains the label for each class"
   ]
  },
  {
   "cell_type": "code",
   "execution_count": 5,
   "id": "57b517f6",
   "metadata": {},
   "outputs": [],
   "source": [
    "mask.columns = [*mask.columns[:-1], 'Target Class']"
   ]
  },
  {
   "cell_type": "code",
   "execution_count": 8,
   "id": "1ac3a00d",
   "metadata": {
    "scrolled": false
   },
   "outputs": [
    {
     "data": {
      "text/html": [
       "<div>\n",
       "<style scoped>\n",
       "    .dataframe tbody tr th:only-of-type {\n",
       "        vertical-align: middle;\n",
       "    }\n",
       "\n",
       "    .dataframe tbody tr th {\n",
       "        vertical-align: top;\n",
       "    }\n",
       "\n",
       "    .dataframe thead th {\n",
       "        text-align: right;\n",
       "    }\n",
       "</style>\n",
       "<table border=\"1\" class=\"dataframe\">\n",
       "  <thead>\n",
       "    <tr style=\"text-align: right;\">\n",
       "      <th></th>\n",
       "      <th>0</th>\n",
       "      <th>1</th>\n",
       "      <th>2</th>\n",
       "      <th>3</th>\n",
       "      <th>4</th>\n",
       "      <th>5</th>\n",
       "      <th>6</th>\n",
       "      <th>7</th>\n",
       "      <th>8</th>\n",
       "      <th>9</th>\n",
       "      <th>...</th>\n",
       "      <th>9171</th>\n",
       "      <th>9172</th>\n",
       "      <th>9173</th>\n",
       "      <th>9174</th>\n",
       "      <th>9175</th>\n",
       "      <th>9176</th>\n",
       "      <th>9177</th>\n",
       "      <th>9178</th>\n",
       "      <th>9179</th>\n",
       "      <th>Target Class</th>\n",
       "    </tr>\n",
       "  </thead>\n",
       "  <tbody>\n",
       "    <tr>\n",
       "      <th>0</th>\n",
       "      <td>0.019729</td>\n",
       "      <td>0.0</td>\n",
       "      <td>0.000000</td>\n",
       "      <td>0.0</td>\n",
       "      <td>0.374858</td>\n",
       "      <td>0.0</td>\n",
       "      <td>0.0</td>\n",
       "      <td>0.000000</td>\n",
       "      <td>0.224950</td>\n",
       "      <td>0.218656</td>\n",
       "      <td>...</td>\n",
       "      <td>0.305085</td>\n",
       "      <td>0.0</td>\n",
       "      <td>0.0</td>\n",
       "      <td>0.0</td>\n",
       "      <td>0.097073</td>\n",
       "      <td>0.0</td>\n",
       "      <td>0.0</td>\n",
       "      <td>0.0</td>\n",
       "      <td>0.306970</td>\n",
       "      <td>0</td>\n",
       "    </tr>\n",
       "    <tr>\n",
       "      <th>1</th>\n",
       "      <td>0.357632</td>\n",
       "      <td>0.0</td>\n",
       "      <td>0.000000</td>\n",
       "      <td>0.0</td>\n",
       "      <td>0.040487</td>\n",
       "      <td>0.0</td>\n",
       "      <td>0.0</td>\n",
       "      <td>0.000000</td>\n",
       "      <td>0.425324</td>\n",
       "      <td>0.216824</td>\n",
       "      <td>...</td>\n",
       "      <td>0.254187</td>\n",
       "      <td>0.0</td>\n",
       "      <td>0.0</td>\n",
       "      <td>0.0</td>\n",
       "      <td>0.061355</td>\n",
       "      <td>0.0</td>\n",
       "      <td>0.0</td>\n",
       "      <td>0.0</td>\n",
       "      <td>0.211999</td>\n",
       "      <td>0</td>\n",
       "    </tr>\n",
       "    <tr>\n",
       "      <th>2</th>\n",
       "      <td>0.217539</td>\n",
       "      <td>0.0</td>\n",
       "      <td>0.000000</td>\n",
       "      <td>0.0</td>\n",
       "      <td>0.174031</td>\n",
       "      <td>0.0</td>\n",
       "      <td>0.0</td>\n",
       "      <td>0.000000</td>\n",
       "      <td>0.000000</td>\n",
       "      <td>0.188533</td>\n",
       "      <td>...</td>\n",
       "      <td>0.646282</td>\n",
       "      <td>0.0</td>\n",
       "      <td>0.0</td>\n",
       "      <td>0.0</td>\n",
       "      <td>0.020005</td>\n",
       "      <td>0.0</td>\n",
       "      <td>0.0</td>\n",
       "      <td>0.0</td>\n",
       "      <td>0.000000</td>\n",
       "      <td>0</td>\n",
       "    </tr>\n",
       "    <tr>\n",
       "      <th>3</th>\n",
       "      <td>0.496119</td>\n",
       "      <td>0.0</td>\n",
       "      <td>0.000000</td>\n",
       "      <td>0.0</td>\n",
       "      <td>0.035437</td>\n",
       "      <td>0.0</td>\n",
       "      <td>0.0</td>\n",
       "      <td>0.000000</td>\n",
       "      <td>0.456059</td>\n",
       "      <td>0.132889</td>\n",
       "      <td>...</td>\n",
       "      <td>0.546041</td>\n",
       "      <td>0.0</td>\n",
       "      <td>0.0</td>\n",
       "      <td>0.0</td>\n",
       "      <td>0.167156</td>\n",
       "      <td>0.0</td>\n",
       "      <td>0.0</td>\n",
       "      <td>0.0</td>\n",
       "      <td>0.485039</td>\n",
       "      <td>0</td>\n",
       "    </tr>\n",
       "    <tr>\n",
       "      <th>4</th>\n",
       "      <td>0.047158</td>\n",
       "      <td>0.0</td>\n",
       "      <td>0.211482</td>\n",
       "      <td>0.0</td>\n",
       "      <td>0.000000</td>\n",
       "      <td>0.0</td>\n",
       "      <td>0.0</td>\n",
       "      <td>0.000000</td>\n",
       "      <td>0.000000</td>\n",
       "      <td>0.644492</td>\n",
       "      <td>...</td>\n",
       "      <td>0.231750</td>\n",
       "      <td>0.0</td>\n",
       "      <td>0.0</td>\n",
       "      <td>0.0</td>\n",
       "      <td>0.073739</td>\n",
       "      <td>0.0</td>\n",
       "      <td>0.0</td>\n",
       "      <td>0.0</td>\n",
       "      <td>0.320382</td>\n",
       "      <td>0</td>\n",
       "    </tr>\n",
       "    <tr>\n",
       "      <th>...</th>\n",
       "      <td>...</td>\n",
       "      <td>...</td>\n",
       "      <td>...</td>\n",
       "      <td>...</td>\n",
       "      <td>...</td>\n",
       "      <td>...</td>\n",
       "      <td>...</td>\n",
       "      <td>...</td>\n",
       "      <td>...</td>\n",
       "      <td>...</td>\n",
       "      <td>...</td>\n",
       "      <td>...</td>\n",
       "      <td>...</td>\n",
       "      <td>...</td>\n",
       "      <td>...</td>\n",
       "      <td>...</td>\n",
       "      <td>...</td>\n",
       "      <td>...</td>\n",
       "      <td>...</td>\n",
       "      <td>...</td>\n",
       "      <td>...</td>\n",
       "    </tr>\n",
       "    <tr>\n",
       "      <th>995</th>\n",
       "      <td>0.100331</td>\n",
       "      <td>0.0</td>\n",
       "      <td>0.000000</td>\n",
       "      <td>0.0</td>\n",
       "      <td>0.000000</td>\n",
       "      <td>0.0</td>\n",
       "      <td>0.0</td>\n",
       "      <td>0.121282</td>\n",
       "      <td>0.000000</td>\n",
       "      <td>0.322805</td>\n",
       "      <td>...</td>\n",
       "      <td>0.181932</td>\n",
       "      <td>0.0</td>\n",
       "      <td>0.0</td>\n",
       "      <td>0.0</td>\n",
       "      <td>0.011865</td>\n",
       "      <td>0.0</td>\n",
       "      <td>0.0</td>\n",
       "      <td>0.0</td>\n",
       "      <td>0.186055</td>\n",
       "      <td>1</td>\n",
       "    </tr>\n",
       "    <tr>\n",
       "      <th>996</th>\n",
       "      <td>0.730741</td>\n",
       "      <td>0.0</td>\n",
       "      <td>0.000000</td>\n",
       "      <td>0.0</td>\n",
       "      <td>0.041010</td>\n",
       "      <td>0.0</td>\n",
       "      <td>0.0</td>\n",
       "      <td>0.000000</td>\n",
       "      <td>0.000000</td>\n",
       "      <td>0.113918</td>\n",
       "      <td>...</td>\n",
       "      <td>0.018843</td>\n",
       "      <td>0.0</td>\n",
       "      <td>0.0</td>\n",
       "      <td>0.0</td>\n",
       "      <td>0.005384</td>\n",
       "      <td>0.0</td>\n",
       "      <td>0.0</td>\n",
       "      <td>0.0</td>\n",
       "      <td>0.094560</td>\n",
       "      <td>1</td>\n",
       "    </tr>\n",
       "    <tr>\n",
       "      <th>997</th>\n",
       "      <td>0.672910</td>\n",
       "      <td>0.0</td>\n",
       "      <td>0.000000</td>\n",
       "      <td>0.0</td>\n",
       "      <td>0.044355</td>\n",
       "      <td>0.0</td>\n",
       "      <td>0.0</td>\n",
       "      <td>0.000000</td>\n",
       "      <td>0.000000</td>\n",
       "      <td>0.014785</td>\n",
       "      <td>...</td>\n",
       "      <td>0.071811</td>\n",
       "      <td>0.0</td>\n",
       "      <td>0.0</td>\n",
       "      <td>0.0</td>\n",
       "      <td>0.006680</td>\n",
       "      <td>0.0</td>\n",
       "      <td>0.0</td>\n",
       "      <td>0.0</td>\n",
       "      <td>0.000000</td>\n",
       "      <td>1</td>\n",
       "    </tr>\n",
       "    <tr>\n",
       "      <th>998</th>\n",
       "      <td>0.411037</td>\n",
       "      <td>0.0</td>\n",
       "      <td>0.000000</td>\n",
       "      <td>0.0</td>\n",
       "      <td>0.057324</td>\n",
       "      <td>0.0</td>\n",
       "      <td>0.0</td>\n",
       "      <td>0.000000</td>\n",
       "      <td>0.000000</td>\n",
       "      <td>0.038216</td>\n",
       "      <td>...</td>\n",
       "      <td>0.238684</td>\n",
       "      <td>0.0</td>\n",
       "      <td>0.0</td>\n",
       "      <td>0.0</td>\n",
       "      <td>0.000000</td>\n",
       "      <td>0.0</td>\n",
       "      <td>0.0</td>\n",
       "      <td>0.0</td>\n",
       "      <td>0.254207</td>\n",
       "      <td>1</td>\n",
       "    </tr>\n",
       "    <tr>\n",
       "      <th>999</th>\n",
       "      <td>0.473685</td>\n",
       "      <td>0.0</td>\n",
       "      <td>0.000000</td>\n",
       "      <td>0.0</td>\n",
       "      <td>0.018007</td>\n",
       "      <td>0.0</td>\n",
       "      <td>0.0</td>\n",
       "      <td>0.000000</td>\n",
       "      <td>0.000000</td>\n",
       "      <td>0.025725</td>\n",
       "      <td>...</td>\n",
       "      <td>0.204311</td>\n",
       "      <td>0.0</td>\n",
       "      <td>0.0</td>\n",
       "      <td>0.0</td>\n",
       "      <td>0.001983</td>\n",
       "      <td>0.0</td>\n",
       "      <td>0.0</td>\n",
       "      <td>0.0</td>\n",
       "      <td>0.000000</td>\n",
       "      <td>1</td>\n",
       "    </tr>\n",
       "  </tbody>\n",
       "</table>\n",
       "<p>1000 rows × 9181 columns</p>\n",
       "</div>"
      ],
      "text/plain": [
       "            0    1         2    3         4    5    6         7         8  \\\n",
       "0    0.019729  0.0  0.000000  0.0  0.374858  0.0  0.0  0.000000  0.224950   \n",
       "1    0.357632  0.0  0.000000  0.0  0.040487  0.0  0.0  0.000000  0.425324   \n",
       "2    0.217539  0.0  0.000000  0.0  0.174031  0.0  0.0  0.000000  0.000000   \n",
       "3    0.496119  0.0  0.000000  0.0  0.035437  0.0  0.0  0.000000  0.456059   \n",
       "4    0.047158  0.0  0.211482  0.0  0.000000  0.0  0.0  0.000000  0.000000   \n",
       "..        ...  ...       ...  ...       ...  ...  ...       ...       ...   \n",
       "995  0.100331  0.0  0.000000  0.0  0.000000  0.0  0.0  0.121282  0.000000   \n",
       "996  0.730741  0.0  0.000000  0.0  0.041010  0.0  0.0  0.000000  0.000000   \n",
       "997  0.672910  0.0  0.000000  0.0  0.044355  0.0  0.0  0.000000  0.000000   \n",
       "998  0.411037  0.0  0.000000  0.0  0.057324  0.0  0.0  0.000000  0.000000   \n",
       "999  0.473685  0.0  0.000000  0.0  0.018007  0.0  0.0  0.000000  0.000000   \n",
       "\n",
       "            9  ...      9171  9172  9173  9174      9175  9176  9177  9178  \\\n",
       "0    0.218656  ...  0.305085   0.0   0.0   0.0  0.097073   0.0   0.0   0.0   \n",
       "1    0.216824  ...  0.254187   0.0   0.0   0.0  0.061355   0.0   0.0   0.0   \n",
       "2    0.188533  ...  0.646282   0.0   0.0   0.0  0.020005   0.0   0.0   0.0   \n",
       "3    0.132889  ...  0.546041   0.0   0.0   0.0  0.167156   0.0   0.0   0.0   \n",
       "4    0.644492  ...  0.231750   0.0   0.0   0.0  0.073739   0.0   0.0   0.0   \n",
       "..        ...  ...       ...   ...   ...   ...       ...   ...   ...   ...   \n",
       "995  0.322805  ...  0.181932   0.0   0.0   0.0  0.011865   0.0   0.0   0.0   \n",
       "996  0.113918  ...  0.018843   0.0   0.0   0.0  0.005384   0.0   0.0   0.0   \n",
       "997  0.014785  ...  0.071811   0.0   0.0   0.0  0.006680   0.0   0.0   0.0   \n",
       "998  0.038216  ...  0.238684   0.0   0.0   0.0  0.000000   0.0   0.0   0.0   \n",
       "999  0.025725  ...  0.204311   0.0   0.0   0.0  0.001983   0.0   0.0   0.0   \n",
       "\n",
       "         9179  Target Class  \n",
       "0    0.306970             0  \n",
       "1    0.211999             0  \n",
       "2    0.000000             0  \n",
       "3    0.485039             0  \n",
       "4    0.320382             0  \n",
       "..        ...           ...  \n",
       "995  0.186055             1  \n",
       "996  0.094560             1  \n",
       "997  0.000000             1  \n",
       "998  0.254207             1  \n",
       "999  0.000000             1  \n",
       "\n",
       "[1000 rows x 9181 columns]"
      ]
     },
     "execution_count": 8,
     "metadata": {},
     "output_type": "execute_result"
    }
   ],
   "source": [
    "mask"
   ]
  },
  {
   "cell_type": "markdown",
   "id": "d0ab7152",
   "metadata": {},
   "source": [
    "## Scatter Plot 2-D\n",
    "In this scatter plot the classes 'No-Mask' and 'Mask' are compared between each other"
   ]
  },
  {
   "cell_type": "code",
   "execution_count": 10,
   "id": "b5f37d12",
   "metadata": {},
   "outputs": [],
   "source": [
    "from sklearn.decomposition import PCA\n",
    "pca = PCA(n_components=2)"
   ]
  },
  {
   "cell_type": "code",
   "execution_count": 13,
   "id": "9af17a70",
   "metadata": {},
   "outputs": [
    {
     "data": {
      "text/plain": [
       "PCA(n_components=2)"
      ]
     },
     "execution_count": 13,
     "metadata": {},
     "output_type": "execute_result"
    }
   ],
   "source": [
    "pca.fit(mask.drop('Target Class', axis=1))"
   ]
  },
  {
   "cell_type": "code",
   "execution_count": 16,
   "id": "07cf43a1",
   "metadata": {},
   "outputs": [],
   "source": [
    "x_pca = pca.transform(mask.drop('Target Class',axis=1))"
   ]
  },
  {
   "cell_type": "code",
   "execution_count": 18,
   "id": "06fd4447",
   "metadata": {},
   "outputs": [
    {
     "data": {
      "text/plain": [
       "array([[-1.34832832,  0.8501447 ],\n",
       "       [-2.12211065,  0.95231794],\n",
       "       [-1.82431268,  1.76950637],\n",
       "       ...,\n",
       "       [ 6.31646385, -0.22329274],\n",
       "       [ 6.5883037 , -0.08136559],\n",
       "       [ 6.19172942, -0.38123033]])"
      ]
     },
     "execution_count": 18,
     "metadata": {},
     "output_type": "execute_result"
    }
   ],
   "source": [
    "x_pca"
   ]
  },
  {
   "cell_type": "code",
   "execution_count": 19,
   "id": "a6433d44",
   "metadata": {},
   "outputs": [
    {
     "data": {
      "text/plain": [
       "<matplotlib.legend.Legend at 0x1b6b1e1ae80>"
      ]
     },
     "execution_count": 19,
     "metadata": {},
     "output_type": "execute_result"
    },
    {
     "data": {
      "image/png": "[encoded data removed]",
      "text/plain": [
       "<Figure size 576x432 with 1 Axes>"
      ]
     },
     "metadata": {
      "needs_background": "light"
     },
     "output_type": "display_data"
    }
   ],
   "source": [
    "plt.figure(figsize=(8,6))\n",
    "scatter = plt.scatter(x_pca[:,0],x_pca[:,1],c=mask['Target Class'], cmap='plasma')\n",
    "plt.xlabel('First Principal Component')\n",
    "plt.ylabel('Second Principal Component')\n",
    "plt.title('Comparison between class \"No-Mask\" and \"Mask\"')\n",
    "plt.legend(handles=scatter.legend_elements()[0], labels=['No-Mask','Mask'])"
   ]
  },
  {
   "cell_type": "markdown",
   "id": "5f3e98d0",
   "metadata": {},
   "source": [
    "## Standardize Data for more consistent classification"
   ]
  },
  {
   "cell_type": "code",
   "execution_count": 20,
   "id": "b616e98a",
   "metadata": {},
   "outputs": [],
   "source": [
    "from sklearn.preprocessing import StandardScaler\n",
    "scaler = StandardScaler()"
   ]
  },
  {
   "cell_type": "code",
   "execution_count": 21,
   "id": "be66b49f",
   "metadata": {},
   "outputs": [
    {
     "data": {
      "text/plain": [
       "StandardScaler()"
      ]
     },
     "execution_count": 21,
     "metadata": {},
     "output_type": "execute_result"
    }
   ],
   "source": [
    "scaler.fit(mask.drop('Target Class', axis=1))"
   ]
  },
  {
   "cell_type": "code",
   "execution_count": 22,
   "id": "f7ede71c",
   "metadata": {},
   "outputs": [],
   "source": [
    "scaled_data = scaler.transform(mask.drop('Target Class',axis=1))"
   ]
  },
  {
   "cell_type": "code",
   "execution_count": 23,
   "id": "113733e3",
   "metadata": {},
   "outputs": [
    {
     "data": {
      "text/html": [
       "<div>\n",
       "<style scoped>\n",
       "    .dataframe tbody tr th:only-of-type {\n",
       "        vertical-align: middle;\n",
       "    }\n",
       "\n",
       "    .dataframe tbody tr th {\n",
       "        vertical-align: top;\n",
       "    }\n",
       "\n",
       "    .dataframe thead th {\n",
       "        text-align: right;\n",
       "    }\n",
       "</style>\n",
       "<table border=\"1\" class=\"dataframe\">\n",
       "  <thead>\n",
       "    <tr style=\"text-align: right;\">\n",
       "      <th></th>\n",
       "      <th>0</th>\n",
       "      <th>1</th>\n",
       "      <th>2</th>\n",
       "      <th>3</th>\n",
       "      <th>4</th>\n",
       "      <th>5</th>\n",
       "      <th>6</th>\n",
       "      <th>7</th>\n",
       "      <th>8</th>\n",
       "      <th>9</th>\n",
       "      <th>...</th>\n",
       "      <th>9170</th>\n",
       "      <th>9171</th>\n",
       "      <th>9172</th>\n",
       "      <th>9173</th>\n",
       "      <th>9174</th>\n",
       "      <th>9175</th>\n",
       "      <th>9176</th>\n",
       "      <th>9177</th>\n",
       "      <th>9178</th>\n",
       "      <th>9179</th>\n",
       "    </tr>\n",
       "  </thead>\n",
       "  <tbody>\n",
       "    <tr>\n",
       "      <th>0</th>\n",
       "      <td>-1.171731</td>\n",
       "      <td>-0.264262</td>\n",
       "      <td>-0.216315</td>\n",
       "      <td>-0.17881</td>\n",
       "      <td>2.456983</td>\n",
       "      <td>-0.151299</td>\n",
       "      <td>-0.165109</td>\n",
       "      <td>-0.282712</td>\n",
       "      <td>1.186884</td>\n",
       "      <td>-0.676635</td>\n",
       "      <td>...</td>\n",
       "      <td>2.288888</td>\n",
       "      <td>0.543332</td>\n",
       "      <td>-0.328349</td>\n",
       "      <td>-0.311097</td>\n",
       "      <td>-0.270135</td>\n",
       "      <td>-0.325479</td>\n",
       "      <td>-0.22209</td>\n",
       "      <td>-0.198505</td>\n",
       "      <td>-0.239018</td>\n",
       "      <td>3.526445</td>\n",
       "    </tr>\n",
       "    <tr>\n",
       "      <th>1</th>\n",
       "      <td>0.581332</td>\n",
       "      <td>-0.264262</td>\n",
       "      <td>-0.216315</td>\n",
       "      <td>-0.17881</td>\n",
       "      <td>-0.411229</td>\n",
       "      <td>-0.151299</td>\n",
       "      <td>-0.165109</td>\n",
       "      <td>-0.282712</td>\n",
       "      <td>2.727002</td>\n",
       "      <td>-0.686520</td>\n",
       "      <td>...</td>\n",
       "      <td>-0.392879</td>\n",
       "      <td>0.280759</td>\n",
       "      <td>-0.328349</td>\n",
       "      <td>-0.311097</td>\n",
       "      <td>-0.270135</td>\n",
       "      <td>-0.539239</td>\n",
       "      <td>-0.22209</td>\n",
       "      <td>-0.198505</td>\n",
       "      <td>-0.239018</td>\n",
       "      <td>2.341545</td>\n",
       "    </tr>\n",
       "    <tr>\n",
       "      <th>2</th>\n",
       "      <td>-0.145482</td>\n",
       "      <td>-0.264262</td>\n",
       "      <td>-0.216315</td>\n",
       "      <td>-0.17881</td>\n",
       "      <td>0.734302</td>\n",
       "      <td>-0.151299</td>\n",
       "      <td>-0.165109</td>\n",
       "      <td>-0.282712</td>\n",
       "      <td>-0.542127</td>\n",
       "      <td>-0.839190</td>\n",
       "      <td>...</td>\n",
       "      <td>-0.392879</td>\n",
       "      <td>2.303504</td>\n",
       "      <td>-0.328349</td>\n",
       "      <td>-0.311097</td>\n",
       "      <td>-0.270135</td>\n",
       "      <td>-0.786717</td>\n",
       "      <td>-0.22209</td>\n",
       "      <td>-0.198505</td>\n",
       "      <td>-0.239018</td>\n",
       "      <td>-0.303432</td>\n",
       "    </tr>\n",
       "    <tr>\n",
       "      <th>3</th>\n",
       "      <td>1.299816</td>\n",
       "      <td>-0.264262</td>\n",
       "      <td>-0.216315</td>\n",
       "      <td>-0.17881</td>\n",
       "      <td>-0.454543</td>\n",
       "      <td>-0.151299</td>\n",
       "      <td>-0.165109</td>\n",
       "      <td>-0.282712</td>\n",
       "      <td>2.963240</td>\n",
       "      <td>-1.139469</td>\n",
       "      <td>...</td>\n",
       "      <td>-0.392879</td>\n",
       "      <td>1.786382</td>\n",
       "      <td>-0.328349</td>\n",
       "      <td>-0.311097</td>\n",
       "      <td>-0.270135</td>\n",
       "      <td>0.093955</td>\n",
       "      <td>-0.22209</td>\n",
       "      <td>-0.198505</td>\n",
       "      <td>-0.239018</td>\n",
       "      <td>5.748100</td>\n",
       "    </tr>\n",
       "    <tr>\n",
       "      <th>4</th>\n",
       "      <td>-1.029430</td>\n",
       "      <td>-0.264262</td>\n",
       "      <td>2.767512</td>\n",
       "      <td>-0.17881</td>\n",
       "      <td>-0.758520</td>\n",
       "      <td>-0.151299</td>\n",
       "      <td>-0.165109</td>\n",
       "      <td>-0.282712</td>\n",
       "      <td>-0.542127</td>\n",
       "      <td>1.621350</td>\n",
       "      <td>...</td>\n",
       "      <td>0.803163</td>\n",
       "      <td>0.165010</td>\n",
       "      <td>-0.328349</td>\n",
       "      <td>-0.311097</td>\n",
       "      <td>-0.270135</td>\n",
       "      <td>-0.465128</td>\n",
       "      <td>-0.22209</td>\n",
       "      <td>-0.198505</td>\n",
       "      <td>-0.239018</td>\n",
       "      <td>3.693772</td>\n",
       "    </tr>\n",
       "    <tr>\n",
       "      <th>...</th>\n",
       "      <td>...</td>\n",
       "      <td>...</td>\n",
       "      <td>...</td>\n",
       "      <td>...</td>\n",
       "      <td>...</td>\n",
       "      <td>...</td>\n",
       "      <td>...</td>\n",
       "      <td>...</td>\n",
       "      <td>...</td>\n",
       "      <td>...</td>\n",
       "      <td>...</td>\n",
       "      <td>...</td>\n",
       "      <td>...</td>\n",
       "      <td>...</td>\n",
       "      <td>...</td>\n",
       "      <td>...</td>\n",
       "      <td>...</td>\n",
       "      <td>...</td>\n",
       "      <td>...</td>\n",
       "      <td>...</td>\n",
       "      <td>...</td>\n",
       "    </tr>\n",
       "    <tr>\n",
       "      <th>995</th>\n",
       "      <td>-0.753563</td>\n",
       "      <td>-0.264262</td>\n",
       "      <td>-0.216315</td>\n",
       "      <td>-0.17881</td>\n",
       "      <td>-0.758520</td>\n",
       "      <td>-0.151299</td>\n",
       "      <td>-0.165109</td>\n",
       "      <td>1.753186</td>\n",
       "      <td>-0.542127</td>\n",
       "      <td>-0.114606</td>\n",
       "      <td>...</td>\n",
       "      <td>-0.392879</td>\n",
       "      <td>-0.091994</td>\n",
       "      <td>-0.328349</td>\n",
       "      <td>-0.311097</td>\n",
       "      <td>-0.270135</td>\n",
       "      <td>-0.835430</td>\n",
       "      <td>-0.22209</td>\n",
       "      <td>-0.198505</td>\n",
       "      <td>-0.239018</td>\n",
       "      <td>2.017858</td>\n",
       "    </tr>\n",
       "    <tr>\n",
       "      <th>996</th>\n",
       "      <td>2.517051</td>\n",
       "      <td>-0.264262</td>\n",
       "      <td>-0.216315</td>\n",
       "      <td>-0.17881</td>\n",
       "      <td>-0.406737</td>\n",
       "      <td>-0.151299</td>\n",
       "      <td>-0.165109</td>\n",
       "      <td>-0.282712</td>\n",
       "      <td>-0.542127</td>\n",
       "      <td>-1.241848</td>\n",
       "      <td>...</td>\n",
       "      <td>-0.392879</td>\n",
       "      <td>-0.933339</td>\n",
       "      <td>-0.328349</td>\n",
       "      <td>-0.311097</td>\n",
       "      <td>-0.270135</td>\n",
       "      <td>-0.874220</td>\n",
       "      <td>-0.22209</td>\n",
       "      <td>-0.198505</td>\n",
       "      <td>-0.239018</td>\n",
       "      <td>0.876328</td>\n",
       "    </tr>\n",
       "    <tr>\n",
       "      <th>997</th>\n",
       "      <td>2.217018</td>\n",
       "      <td>-0.264262</td>\n",
       "      <td>-0.216315</td>\n",
       "      <td>-0.17881</td>\n",
       "      <td>-0.378046</td>\n",
       "      <td>-0.151299</td>\n",
       "      <td>-0.165109</td>\n",
       "      <td>-0.282712</td>\n",
       "      <td>-0.542127</td>\n",
       "      <td>-1.776808</td>\n",
       "      <td>...</td>\n",
       "      <td>-0.392879</td>\n",
       "      <td>-0.660085</td>\n",
       "      <td>-0.328349</td>\n",
       "      <td>-0.311097</td>\n",
       "      <td>-0.270135</td>\n",
       "      <td>-0.866461</td>\n",
       "      <td>-0.22209</td>\n",
       "      <td>-0.198505</td>\n",
       "      <td>-0.239018</td>\n",
       "      <td>-0.303432</td>\n",
       "    </tr>\n",
       "    <tr>\n",
       "      <th>998</th>\n",
       "      <td>0.858403</td>\n",
       "      <td>-0.264262</td>\n",
       "      <td>-0.216315</td>\n",
       "      <td>-0.17881</td>\n",
       "      <td>-0.266801</td>\n",
       "      <td>-0.151299</td>\n",
       "      <td>-0.165109</td>\n",
       "      <td>-0.282712</td>\n",
       "      <td>-0.542127</td>\n",
       "      <td>-1.650366</td>\n",
       "      <td>...</td>\n",
       "      <td>-0.392879</td>\n",
       "      <td>0.200783</td>\n",
       "      <td>-0.328349</td>\n",
       "      <td>-0.311097</td>\n",
       "      <td>-0.270135</td>\n",
       "      <td>-0.906440</td>\n",
       "      <td>-0.22209</td>\n",
       "      <td>-0.198505</td>\n",
       "      <td>-0.239018</td>\n",
       "      <td>2.868146</td>\n",
       "    </tr>\n",
       "    <tr>\n",
       "      <th>999</th>\n",
       "      <td>1.183426</td>\n",
       "      <td>-0.264262</td>\n",
       "      <td>-0.216315</td>\n",
       "      <td>-0.17881</td>\n",
       "      <td>-0.604054</td>\n",
       "      <td>-0.151299</td>\n",
       "      <td>-0.165109</td>\n",
       "      <td>-0.282712</td>\n",
       "      <td>-0.542127</td>\n",
       "      <td>-1.717773</td>\n",
       "      <td>...</td>\n",
       "      <td>-0.392879</td>\n",
       "      <td>0.023460</td>\n",
       "      <td>-0.328349</td>\n",
       "      <td>-0.311097</td>\n",
       "      <td>-0.270135</td>\n",
       "      <td>-0.894571</td>\n",
       "      <td>-0.22209</td>\n",
       "      <td>-0.198505</td>\n",
       "      <td>-0.239018</td>\n",
       "      <td>-0.303432</td>\n",
       "    </tr>\n",
       "  </tbody>\n",
       "</table>\n",
       "<p>1000 rows × 9180 columns</p>\n",
       "</div>"
      ],
      "text/plain": [
       "            0         1         2        3         4         5         6  \\\n",
       "0   -1.171731 -0.264262 -0.216315 -0.17881  2.456983 -0.151299 -0.165109   \n",
       "1    0.581332 -0.264262 -0.216315 -0.17881 -0.411229 -0.151299 -0.165109   \n",
       "2   -0.145482 -0.264262 -0.216315 -0.17881  0.734302 -0.151299 -0.165109   \n",
       "3    1.299816 -0.264262 -0.216315 -0.17881 -0.454543 -0.151299 -0.165109   \n",
       "4   -1.029430 -0.264262  2.767512 -0.17881 -0.758520 -0.151299 -0.165109   \n",
       "..        ...       ...       ...      ...       ...       ...       ...   \n",
       "995 -0.753563 -0.264262 -0.216315 -0.17881 -0.758520 -0.151299 -0.165109   \n",
       "996  2.517051 -0.264262 -0.216315 -0.17881 -0.406737 -0.151299 -0.165109   \n",
       "997  2.217018 -0.264262 -0.216315 -0.17881 -0.378046 -0.151299 -0.165109   \n",
       "998  0.858403 -0.264262 -0.216315 -0.17881 -0.266801 -0.151299 -0.165109   \n",
       "999  1.183426 -0.264262 -0.216315 -0.17881 -0.604054 -0.151299 -0.165109   \n",
       "\n",
       "            7         8         9  ...      9170      9171      9172  \\\n",
       "0   -0.282712  1.186884 -0.676635  ...  2.288888  0.543332 -0.328349   \n",
       "1   -0.282712  2.727002 -0.686520  ... -0.392879  0.280759 -0.328349   \n",
       "2   -0.282712 -0.542127 -0.839190  ... -0.392879  2.303504 -0.328349   \n",
       "3   -0.282712  2.963240 -1.139469  ... -0.392879  1.786382 -0.328349   \n",
       "4   -0.282712 -0.542127  1.621350  ...  0.803163  0.165010 -0.328349   \n",
       "..        ...       ...       ...  ...       ...       ...       ...   \n",
       "995  1.753186 -0.542127 -0.114606  ... -0.392879 -0.091994 -0.328349   \n",
       "996 -0.282712 -0.542127 -1.241848  ... -0.392879 -0.933339 -0.328349   \n",
       "997 -0.282712 -0.542127 -1.776808  ... -0.392879 -0.660085 -0.328349   \n",
       "998 -0.282712 -0.542127 -1.650366  ... -0.392879  0.200783 -0.328349   \n",
       "999 -0.282712 -0.542127 -1.717773  ... -0.392879  0.023460 -0.328349   \n",
       "\n",
       "         9173      9174      9175     9176      9177      9178      9179  \n",
       "0   -0.311097 -0.270135 -0.325479 -0.22209 -0.198505 -0.239018  3.526445  \n",
       "1   -0.311097 -0.270135 -0.539239 -0.22209 -0.198505 -0.239018  2.341545  \n",
       "2   -0.311097 -0.270135 -0.786717 -0.22209 -0.198505 -0.239018 -0.303432  \n",
       "3   -0.311097 -0.270135  0.093955 -0.22209 -0.198505 -0.239018  5.748100  \n",
       "4   -0.311097 -0.270135 -0.465128 -0.22209 -0.198505 -0.239018  3.693772  \n",
       "..        ...       ...       ...      ...       ...       ...       ...  \n",
       "995 -0.311097 -0.270135 -0.835430 -0.22209 -0.198505 -0.239018  2.017858  \n",
       "996 -0.311097 -0.270135 -0.874220 -0.22209 -0.198505 -0.239018  0.876328  \n",
       "997 -0.311097 -0.270135 -0.866461 -0.22209 -0.198505 -0.239018 -0.303432  \n",
       "998 -0.311097 -0.270135 -0.906440 -0.22209 -0.198505 -0.239018  2.868146  \n",
       "999 -0.311097 -0.270135 -0.894571 -0.22209 -0.198505 -0.239018 -0.303432  \n",
       "\n",
       "[1000 rows x 9180 columns]"
      ]
     },
     "execution_count": 23,
     "metadata": {},
     "output_type": "execute_result"
    }
   ],
   "source": [
    "df_feat = pd.DataFrame(scaled_data, columns=mask.columns[:-1])\n",
    "df_feat"
   ]
  },
  {
   "cell_type": "markdown",
   "id": "8da83891",
   "metadata": {},
   "source": [
    "## PCA Decomposition\n",
    "PCA is used to find the first two principal components, and visualize the data in this new, two-dimensional space, with a single scatter-plot."
   ]
  },
  {
   "cell_type": "code",
   "execution_count": 24,
   "id": "49396041",
   "metadata": {},
   "outputs": [],
   "source": [
    "from sklearn.decomposition import PCA\n",
    "pca = PCA(n_components=2)"
   ]
  },
  {
   "cell_type": "code",
   "execution_count": 25,
   "id": "9a6cf28a",
   "metadata": {},
   "outputs": [
    {
     "data": {
      "text/plain": [
       "PCA(n_components=2)"
      ]
     },
     "execution_count": 25,
     "metadata": {},
     "output_type": "execute_result"
    }
   ],
   "source": [
    "pca.fit(scaled_data)"
   ]
  },
  {
   "cell_type": "code",
   "execution_count": 26,
   "id": "34695667",
   "metadata": {},
   "outputs": [],
   "source": [
    "x_pca = pca.transform(scaled_data)"
   ]
  },
  {
   "cell_type": "code",
   "execution_count": 27,
   "id": "32508899",
   "metadata": {},
   "outputs": [
    {
     "data": {
      "text/plain": [
       "(1000, 9180)"
      ]
     },
     "execution_count": 27,
     "metadata": {},
     "output_type": "execute_result"
    }
   ],
   "source": [
    "scaled_data.shape"
   ]
  },
  {
   "cell_type": "code",
   "execution_count": 28,
   "id": "4478fa88",
   "metadata": {},
   "outputs": [
    {
     "data": {
      "text/plain": [
       "(1000, 2)"
      ]
     },
     "execution_count": 28,
     "metadata": {},
     "output_type": "execute_result"
    }
   ],
   "source": [
    "x_pca.shape"
   ]
  },
  {
   "cell_type": "markdown",
   "id": "f4146d85",
   "metadata": {},
   "source": [
    "## Scatter Plot 2-D\n",
    "In this scatter plot the classes 'No-Mask' and 'Mask' are compared between each other"
   ]
  },
  {
   "cell_type": "code",
   "execution_count": 29,
   "id": "832e273b",
   "metadata": {},
   "outputs": [
    {
     "data": {
      "text/plain": [
       "<matplotlib.legend.Legend at 0x1b6b1efad90>"
      ]
     },
     "execution_count": 29,
     "metadata": {},
     "output_type": "execute_result"
    },
    {
     "data": {
      "image/png": "[encoded data removed]",
      "text/plain": [
       "<Figure size 576x432 with 1 Axes>"
      ]
     },
     "metadata": {
      "needs_background": "light"
     },
     "output_type": "display_data"
    }
   ],
   "source": [
    "plt.figure(figsize=(8,6))\n",
    "scatter = plt.scatter(x_pca[:,0],x_pca[:,1],c=mask['Target Class'], cmap='plasma')\n",
    "plt.xlabel('First Principal Component')\n",
    "plt.ylabel('Second Principal Component')\n",
    "plt.title('Comparison between class \"No-Mask\" and \"Mask\"')\n",
    "plt.legend(handles=scatter.legend_elements()[0], labels=['No-Mask','Mask'])"
   ]
  },
  {
   "cell_type": "markdown",
   "id": "6dcad2ea",
   "metadata": {},
   "source": [
    "## Train Test Split"
   ]
  },
  {
   "cell_type": "code",
   "execution_count": 30,
   "id": "6e407b95",
   "metadata": {},
   "outputs": [],
   "source": [
    "from sklearn.model_selection import train_test_split"
   ]
  },
  {
   "cell_type": "code",
   "execution_count": 31,
   "id": "7363c25b",
   "metadata": {},
   "outputs": [],
   "source": [
    "X=x_pca\n",
    "y=mask['Target Class']"
   ]
  },
  {
   "cell_type": "code",
   "execution_count": 32,
   "id": "328219c8",
   "metadata": {},
   "outputs": [],
   "source": [
    "X_train, X_test, y_train, y_test = train_test_split(X, y, test_size=0.3, random_state=42)"
   ]
  },
  {
   "cell_type": "markdown",
   "id": "3881e6e4",
   "metadata": {},
   "source": [
    "## GridSearch\n",
    "GridSearchCV takes a dictionary that describes the parameters that should be tried and a model to train. The grid of parameters is defined as a dictionary, where the keys are the parameters and the values are the settings to be tested. "
   ]
  },
  {
   "cell_type": "code",
   "execution_count": 34,
   "id": "f39b2681",
   "metadata": {},
   "outputs": [],
   "source": [
    "from sklearn.model_selection import GridSearchCV\n",
    "from sklearn.svm import LinearSVC"
   ]
  },
  {
   "cell_type": "code",
   "execution_count": 21,
   "id": "1f567542",
   "metadata": {},
   "outputs": [],
   "source": [
    "param_grid = {'C': [1e-9,1e-8,1e-7,1e-6,1e-5,1e-4,1e-3,1e-2,1e-1,1,10,100,1000,10000,100000,1e6,1e7,1e8,1e9]} "
   ]
  },
  {
   "cell_type": "code",
   "execution_count": 22,
   "id": "1f4c973e",
   "metadata": {},
   "outputs": [],
   "source": [
    "grid = GridSearchCV(LinearSVC(max_iter=50000),param_grid,refit=True,verbose=3)"
   ]
  },
  {
   "cell_type": "code",
   "execution_count": 23,
   "id": "9153a4e8",
   "metadata": {},
   "outputs": [
    {
     "name": "stdout",
     "output_type": "stream",
     "text": [
      "Fitting 5 folds for each of 19 candidates, totalling 95 fits\n",
      "[CV 1/5] END ...........................C=1e-09;, score=0.986 total time=   0.0s\n",
      "[CV 2/5] END ...........................C=1e-09;, score=0.986 total time=   0.0s\n",
      "[CV 3/5] END ...........................C=1e-09;, score=0.964 total time=   0.0s\n",
      "[CV 4/5] END ...........................C=1e-09;, score=0.964 total time=   0.0s\n",
      "[CV 5/5] END ...........................C=1e-09;, score=0.971 total time=   0.0s\n",
      "[CV 1/5] END ...........................C=1e-08;, score=0.986 total time=   0.0s\n",
      "[CV 2/5] END ...........................C=1e-08;, score=0.986 total time=   0.0s\n",
      "[CV 3/5] END ...........................C=1e-08;, score=0.964 total time=   0.0s\n",
      "[CV 4/5] END ...........................C=1e-08;, score=0.964 total time=   0.0s\n",
      "[CV 5/5] END ...........................C=1e-08;, score=0.971 total time=   0.0s\n",
      "[CV 1/5] END ...........................C=1e-07;, score=0.986 total time=   0.0s\n",
      "[CV 2/5] END ...........................C=1e-07;, score=0.986 total time=   0.0s\n",
      "[CV 3/5] END ...........................C=1e-07;, score=0.964 total time=   0.0s\n",
      "[CV 4/5] END ...........................C=1e-07;, score=0.964 total time=   0.0s\n",
      "[CV 5/5] END ...........................C=1e-07;, score=0.971 total time=   0.0s\n",
      "[CV 1/5] END ...........................C=1e-06;, score=0.986 total time=   0.0s\n",
      "[CV 2/5] END ...........................C=1e-06;, score=0.986 total time=   0.0s\n",
      "[CV 3/5] END ...........................C=1e-06;, score=0.964 total time=   0.0s\n",
      "[CV 4/5] END ...........................C=1e-06;, score=0.964 total time=   0.0s\n",
      "[CV 5/5] END ...........................C=1e-06;, score=0.971 total time=   0.0s\n",
      "[CV 1/5] END ...........................C=1e-05;, score=0.986 total time=   0.0s\n",
      "[CV 2/5] END ...........................C=1e-05;, score=0.986 total time=   0.0s\n",
      "[CV 3/5] END ...........................C=1e-05;, score=0.964 total time=   0.0s\n",
      "[CV 4/5] END ...........................C=1e-05;, score=0.964 total time=   0.0s\n",
      "[CV 5/5] END ...........................C=1e-05;, score=0.971 total time=   0.0s\n",
      "[CV 1/5] END ..........................C=0.0001;, score=0.979 total time=   0.0s\n",
      "[CV 2/5] END ..........................C=0.0001;, score=0.979 total time=   0.0s\n",
      "[CV 3/5] END ..........................C=0.0001;, score=0.964 total time=   0.0s\n",
      "[CV 4/5] END ..........................C=0.0001;, score=0.971 total time=   0.0s\n",
      "[CV 5/5] END ..........................C=0.0001;, score=0.971 total time=   0.0s\n",
      "[CV 1/5] END ...........................C=0.001;, score=0.993 total time=   0.0s\n",
      "[CV 2/5] END ...........................C=0.001;, score=0.979 total time=   0.0s\n",
      "[CV 3/5] END ...........................C=0.001;, score=0.979 total time=   0.0s\n",
      "[CV 4/5] END ...........................C=0.001;, score=0.986 total time=   0.0s\n",
      "[CV 5/5] END ...........................C=0.001;, score=0.971 total time=   0.0s\n",
      "[CV 1/5] END ............................C=0.01;, score=1.000 total time=   0.0s\n",
      "[CV 2/5] END ............................C=0.01;, score=1.000 total time=   0.0s\n",
      "[CV 3/5] END ............................C=0.01;, score=0.993 total time=   0.0s\n",
      "[CV 4/5] END ............................C=0.01;, score=0.993 total time=   0.0s\n",
      "[CV 5/5] END ............................C=0.01;, score=0.986 total time=   0.0s\n",
      "[CV 1/5] END .............................C=0.1;, score=1.000 total time=   0.0s\n",
      "[CV 2/5] END .............................C=0.1;, score=1.000 total time=   0.0s\n",
      "[CV 3/5] END .............................C=0.1;, score=1.000 total time=   0.0s\n",
      "[CV 4/5] END .............................C=0.1;, score=1.000 total time=   0.0s\n",
      "[CV 5/5] END .............................C=0.1;, score=1.000 total time=   0.0s\n",
      "[CV 1/5] END ...............................C=1;, score=1.000 total time=   0.0s\n",
      "[CV 2/5] END ...............................C=1;, score=1.000 total time=   0.0s\n",
      "[CV 3/5] END ...............................C=1;, score=1.000 total time=   0.0s\n",
      "[CV 4/5] END ...............................C=1;, score=1.000 total time=   0.0s\n",
      "[CV 5/5] END ...............................C=1;, score=1.000 total time=   0.0s\n",
      "[CV 1/5] END ..............................C=10;, score=1.000 total time=   0.0s\n",
      "[CV 2/5] END ..............................C=10;, score=1.000 total time=   0.0s\n",
      "[CV 3/5] END ..............................C=10;, score=1.000 total time=   0.0s\n",
      "[CV 4/5] END ..............................C=10;, score=1.000 total time=   0.0s\n",
      "[CV 5/5] END ..............................C=10;, score=1.000 total time=   0.0s\n",
      "[CV 1/5] END .............................C=100;, score=1.000 total time=   0.0s\n",
      "[CV 2/5] END .............................C=100;, score=1.000 total time=   0.0s\n",
      "[CV 3/5] END .............................C=100;, score=1.000 total time=   0.0s\n",
      "[CV 4/5] END .............................C=100;, score=1.000 total time=   0.0s\n",
      "[CV 5/5] END .............................C=100;, score=1.000 total time=   0.0s\n",
      "[CV 1/5] END ............................C=1000;, score=1.000 total time=   0.0s\n",
      "[CV 2/5] END ............................C=1000;, score=1.000 total time=   0.0s\n",
      "[CV 3/5] END ............................C=1000;, score=1.000 total time=   0.0s\n",
      "[CV 4/5] END ............................C=1000;, score=1.000 total time=   0.0s\n",
      "[CV 5/5] END ............................C=1000;, score=1.000 total time=   0.0s\n",
      "[CV 1/5] END ...........................C=10000;, score=1.000 total time=   0.0s\n",
      "[CV 2/5] END ...........................C=10000;, score=1.000 total time=   0.0s\n",
      "[CV 3/5] END ...........................C=10000;, score=1.000 total time=   0.0s\n",
      "[CV 4/5] END ...........................C=10000;, score=1.000 total time=   0.0s\n",
      "[CV 5/5] END ...........................C=10000;, score=1.000 total time=   0.0s\n",
      "[CV 1/5] END ..........................C=100000;, score=1.000 total time=   0.0s\n",
      "[CV 2/5] END ..........................C=100000;, score=1.000 total time=   0.0s\n",
      "[CV 3/5] END ..........................C=100000;, score=1.000 total time=   0.0s\n",
      "[CV 4/5] END ..........................C=100000;, score=1.000 total time=   0.0s\n",
      "[CV 5/5] END ..........................C=100000;, score=1.000 total time=   0.0s\n",
      "[CV 1/5] END .......................C=1000000.0;, score=1.000 total time=   0.0s\n",
      "[CV 2/5] END .......................C=1000000.0;, score=1.000 total time=   0.0s\n",
      "[CV 3/5] END .......................C=1000000.0;, score=1.000 total time=   0.0s\n",
      "[CV 4/5] END .......................C=1000000.0;, score=1.000 total time=   0.0s\n",
      "[CV 5/5] END .......................C=1000000.0;, score=1.000 total time=   0.0s\n",
      "[CV 1/5] END ......................C=10000000.0;, score=1.000 total time=   0.0s\n",
      "[CV 2/5] END ......................C=10000000.0;, score=1.000 total time=   0.0s\n",
      "[CV 3/5] END ......................C=10000000.0;, score=1.000 total time=   0.0s\n",
      "[CV 4/5] END ......................C=10000000.0;, score=1.000 total time=   0.0s\n",
      "[CV 5/5] END ......................C=10000000.0;, score=1.000 total time=   0.0s\n",
      "[CV 1/5] END .....................C=100000000.0;, score=1.000 total time=   0.0s\n",
      "[CV 2/5] END .....................C=100000000.0;, score=1.000 total time=   0.0s\n",
      "[CV 3/5] END .....................C=100000000.0;, score=1.000 total time=   0.0s\n",
      "[CV 4/5] END .....................C=100000000.0;, score=1.000 total time=   0.0s\n",
      "[CV 5/5] END .....................C=100000000.0;, score=1.000 total time=   0.0s\n",
      "[CV 1/5] END ....................C=1000000000.0;, score=1.000 total time=   0.0s\n",
      "[CV 2/5] END ....................C=1000000000.0;, score=1.000 total time=   0.0s\n",
      "[CV 3/5] END ....................C=1000000000.0;, score=1.000 total time=   0.0s\n",
      "[CV 4/5] END ....................C=1000000000.0;, score=1.000 total time=   0.0s\n",
      "[CV 5/5] END ....................C=1000000000.0;, score=1.000 total time=   0.0s\n"
     ]
    },
    {
     "data": {
      "text/plain": [
       "GridSearchCV(estimator=LinearSVC(max_iter=50000),\n",
       "             param_grid={'C': [1e-09, 1e-08, 1e-07, 1e-06, 1e-05, 0.0001, 0.001,\n",
       "                               0.01, 0.1, 1, 10, 100, 1000, 10000, 100000,\n",
       "                               1000000.0, 10000000.0, 100000000.0,\n",
       "                               1000000000.0]},\n",
       "             verbose=3)"
      ]
     },
     "execution_count": 23,
     "metadata": {},
     "output_type": "execute_result"
    }
   ],
   "source": [
    "grid.fit(X_train,y_train)"
   ]
  },
  {
   "cell_type": "code",
   "execution_count": 24,
   "id": "7013e7d8",
   "metadata": {},
   "outputs": [
    {
     "data": {
      "text/plain": [
       "{'C': 0.1}"
      ]
     },
     "execution_count": 24,
     "metadata": {},
     "output_type": "execute_result"
    }
   ],
   "source": [
    "grid.best_params_"
   ]
  },
  {
   "cell_type": "code",
   "execution_count": 25,
   "id": "9fff83b5",
   "metadata": {},
   "outputs": [
    {
     "data": {
      "text/plain": [
       "1.0"
      ]
     },
     "execution_count": 25,
     "metadata": {},
     "output_type": "execute_result"
    }
   ],
   "source": [
    "grid.best_score_"
   ]
  },
  {
   "cell_type": "markdown",
   "id": "92ff13ed",
   "metadata": {},
   "source": [
    "## Train the Support Vector Classifier"
   ]
  },
  {
   "cell_type": "code",
   "execution_count": 35,
   "id": "3d89551a",
   "metadata": {},
   "outputs": [],
   "source": [
    "svm = LinearSVC(C=0.1, random_state=42)"
   ]
  },
  {
   "cell_type": "code",
   "execution_count": 40,
   "id": "d8f8432b",
   "metadata": {},
   "outputs": [
    {
     "data": {
      "text/plain": [
       "LinearSVC(C=0.1, random_state=42)"
      ]
     },
     "execution_count": 40,
     "metadata": {},
     "output_type": "execute_result"
    }
   ],
   "source": [
    "svm.fit(X_train, y_train.values)"
   ]
  },
  {
   "cell_type": "markdown",
   "id": "697703d3",
   "metadata": {},
   "source": [
    "## Predictions and Evaluations"
   ]
  },
  {
   "cell_type": "code",
   "execution_count": 41,
   "id": "ee9dfc17",
   "metadata": {},
   "outputs": [],
   "source": [
    "from sklearn.metrics import classification_report,confusion_matrix"
   ]
  },
  {
   "cell_type": "code",
   "execution_count": 42,
   "id": "1e8f9941",
   "metadata": {},
   "outputs": [],
   "source": [
    "predictions = svm.predict(X_test)"
   ]
  },
  {
   "cell_type": "code",
   "execution_count": 43,
   "id": "0ee07b22",
   "metadata": {},
   "outputs": [
    {
     "name": "stdout",
     "output_type": "stream",
     "text": [
      "[[212   1]\n",
      " [  0  87]]\n"
     ]
    }
   ],
   "source": [
    "print(confusion_matrix(y_test,predictions))"
   ]
  },
  {
   "cell_type": "code",
   "execution_count": 44,
   "id": "259f173e",
   "metadata": {},
   "outputs": [
    {
     "name": "stdout",
     "output_type": "stream",
     "text": [
      "              precision    recall  f1-score   support\n",
      "\n",
      "           0       1.00      1.00      1.00       213\n",
      "           1       0.99      1.00      0.99        87\n",
      "\n",
      "    accuracy                           1.00       300\n",
      "   macro avg       0.99      1.00      1.00       300\n",
      "weighted avg       1.00      1.00      1.00       300\n",
      "\n"
     ]
    }
   ],
   "source": [
    "print(classification_report(y_test, predictions))"
   ]
  },
  {
   "cell_type": "markdown",
   "id": "17a071a4",
   "metadata": {},
   "source": [
    "## Hyperplane Plot"
   ]
  },
  {
   "cell_type": "code",
   "execution_count": 45,
   "id": "f056842f",
   "metadata": {},
   "outputs": [
    {
     "data": {
      "image/png": "[encoded data removed]",
      "text/plain": [
       "<Figure size 1080x720 with 1 Axes>"
      ]
     },
     "metadata": {
      "needs_background": "light"
     },
     "output_type": "display_data"
    }
   ],
   "source": [
    "fig, ax = plt.subplots()\n",
    "# get the separating hyperplane\n",
    "w = svm.coef_[0]\n",
    "a = -w[0] / w[1]\n",
    "xx = np.linspace(-5, 5)\n",
    "yy = a * xx - (svm.intercept_[0]) / w[1]\n",
    "\n",
    "# create a mesh to plot in\n",
    "x_min, x_max = X_train[:, 0].min() - 1, X_train[:, 0].max() + 1\n",
    "y_min, y_max = X_train[:, 1].min() - 1, X_train[:, 1].max() + 1\n",
    "xx2, yy2 = np.meshgrid(np.arange(x_min, x_max, .2),\n",
    "                     np.arange(y_min, y_max, .2))\n",
    "Z = svm.predict(np.c_[xx2.ravel(), yy2.ravel()])\n",
    "\n",
    "Z = Z.reshape(xx2.shape)\n",
    "ax.contourf(xx2, yy2, Z, cmap=plt.cm.coolwarm, alpha=0.3)\n",
    "scatter = ax.scatter(X_train[:, 0], X_train[:, 1], c=y_train, cmap=plt.cm.coolwarm, s=25)\n",
    "ax.plot(xx,yy)\n",
    "\n",
    "ax.axis([x_min, x_max,y_min, y_max])\n",
    "plt.title('Separation between clasess with C=0.1')\n",
    "fig.set_size_inches(15,10)\n",
    "plt.legend(handles=scatter.legend_elements()[0], labels=['No-Mask','Mask'])\n",
    "plt.show()"
   ]
  },
  {
   "cell_type": "markdown",
   "id": "5a6a173f",
   "metadata": {},
   "source": [
    "## Save Model"
   ]
  },
  {
   "cell_type": "code",
   "execution_count": 46,
   "id": "c367c654",
   "metadata": {},
   "outputs": [],
   "source": [
    "import joblib"
   ]
  },
  {
   "cell_type": "code",
   "execution_count": 47,
   "id": "c2eddfca",
   "metadata": {},
   "outputs": [
    {
     "data": {
      "text/plain": [
       "['face_mask.xml']"
      ]
     },
     "execution_count": 47,
     "metadata": {},
     "output_type": "execute_result"
    }
   ],
   "source": [
    "joblib.dump(svm, 'face_mask.xml')"
   ]
  }
 ],
 "metadata": {
  "kernelspec": {
   "display_name": "Python 3 (ipykernel)",
   "language": "python",
   "name": "python3"
  },
  "language_info": {
   "codemirror_mode": {
    "name": "ipython",
    "version": 3
   },
   "file_extension": ".py",
   "mimetype": "text/x-python",
   "name": "python",
   "nbconvert_exporter": "python",
   "pygments_lexer": "ipython3",
   "version": "3.9.12"
  }
 },
 "nbformat": 4,
 "nbformat_minor": 5
}
