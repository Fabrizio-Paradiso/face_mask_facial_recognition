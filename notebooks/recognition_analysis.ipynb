{
 "cells": [
  {
   "cell_type": "markdown",
   "id": "7994f4c0",
   "metadata": {},
   "source": [
    "# Face-Recognition Analysis"
   ]
  },
  {
   "cell_type": "markdown",
   "id": "a0accbad",
   "metadata": {},
   "source": [
    "## Import necessary libraries"
   ]
  },
  {
   "cell_type": "markdown",
   "id": "45d00d92",
   "metadata": {},
   "source": [
    "This libraries are imported to visualize data"
   ]
  },
  {
   "cell_type": "code",
   "execution_count": 1,
   "id": "f216142f",
   "metadata": {},
   "outputs": [],
   "source": [
    "import pandas as pd\n",
    "import matplotlib.pyplot as plt\n",
    "import seaborn as sns\n",
    "import numpy as np\n",
    "%matplotlib inline"
   ]
  },
  {
   "cell_type": "markdown",
   "id": "154920f8",
   "metadata": {},
   "source": [
    "## Read csv"
   ]
  },
  {
   "cell_type": "markdown",
   "id": "441e113b",
   "metadata": {},
   "source": [
    "In this file is stored all the pairs HOG features-label for each class for Face-Recognition extracted from the main dataset."
   ]
  },
  {
   "cell_type": "code",
   "execution_count": 2,
   "id": "db0cfd25",
   "metadata": {},
   "outputs": [],
   "source": [
    "recognition = pd.read_csv('recognition.csv')"
   ]
  },
  {
   "cell_type": "markdown",
   "id": "7a8e2ab5",
   "metadata": {},
   "source": [
    "## Check out .info() and .head()"
   ]
  },
  {
   "cell_type": "markdown",
   "id": "8a942d14",
   "metadata": {},
   "source": [
    "In order to analyze the feature size extracted from HOG."
   ]
  },
  {
   "cell_type": "code",
   "execution_count": 3,
   "id": "d129e450",
   "metadata": {},
   "outputs": [
    {
     "name": "stdout",
     "output_type": "stream",
     "text": [
      "<class 'pandas.core.frame.DataFrame'>\n",
      "RangeIndex: 5000 entries, 0 to 4999\n",
      "Columns: 5941 entries, 0 to 5940\n",
      "dtypes: float64(5940), int64(1)\n",
      "memory usage: 226.6 MB\n"
     ]
    }
   ],
   "source": [
    "recognition.info()"
   ]
  },
  {
   "cell_type": "code",
   "execution_count": 4,
   "id": "2b850506",
   "metadata": {
    "scrolled": true
   },
   "outputs": [
    {
     "data": {
      "text/html": [
       "<div>\n",
       "<style scoped>\n",
       "    .dataframe tbody tr th:only-of-type {\n",
       "        vertical-align: middle;\n",
       "    }\n",
       "\n",
       "    .dataframe tbody tr th {\n",
       "        vertical-align: top;\n",
       "    }\n",
       "\n",
       "    .dataframe thead th {\n",
       "        text-align: right;\n",
       "    }\n",
       "</style>\n",
       "<table border=\"1\" class=\"dataframe\">\n",
       "  <thead>\n",
       "    <tr style=\"text-align: right;\">\n",
       "      <th></th>\n",
       "      <th>0</th>\n",
       "      <th>1</th>\n",
       "      <th>2</th>\n",
       "      <th>3</th>\n",
       "      <th>4</th>\n",
       "      <th>5</th>\n",
       "      <th>6</th>\n",
       "      <th>7</th>\n",
       "      <th>8</th>\n",
       "      <th>9</th>\n",
       "      <th>...</th>\n",
       "      <th>5931</th>\n",
       "      <th>5932</th>\n",
       "      <th>5933</th>\n",
       "      <th>5934</th>\n",
       "      <th>5935</th>\n",
       "      <th>5936</th>\n",
       "      <th>5937</th>\n",
       "      <th>5938</th>\n",
       "      <th>5939</th>\n",
       "      <th>5940</th>\n",
       "    </tr>\n",
       "  </thead>\n",
       "  <tbody>\n",
       "    <tr>\n",
       "      <th>0</th>\n",
       "      <td>0.198046</td>\n",
       "      <td>0.230344</td>\n",
       "      <td>0.000000</td>\n",
       "      <td>0.0</td>\n",
       "      <td>0.031943</td>\n",
       "      <td>0.0</td>\n",
       "      <td>0.0</td>\n",
       "      <td>0.0</td>\n",
       "      <td>0.0</td>\n",
       "      <td>0.300264</td>\n",
       "      <td>...</td>\n",
       "      <td>0.0</td>\n",
       "      <td>0.000000</td>\n",
       "      <td>0.091388</td>\n",
       "      <td>0.000000</td>\n",
       "      <td>0.059474</td>\n",
       "      <td>0.0</td>\n",
       "      <td>0.000000</td>\n",
       "      <td>0.066494</td>\n",
       "      <td>0.000000</td>\n",
       "      <td>0</td>\n",
       "    </tr>\n",
       "    <tr>\n",
       "      <th>1</th>\n",
       "      <td>0.118230</td>\n",
       "      <td>0.214569</td>\n",
       "      <td>0.000000</td>\n",
       "      <td>0.0</td>\n",
       "      <td>0.024891</td>\n",
       "      <td>0.0</td>\n",
       "      <td>0.0</td>\n",
       "      <td>0.0</td>\n",
       "      <td>0.0</td>\n",
       "      <td>0.367136</td>\n",
       "      <td>...</td>\n",
       "      <td>0.0</td>\n",
       "      <td>0.038483</td>\n",
       "      <td>0.000000</td>\n",
       "      <td>0.073522</td>\n",
       "      <td>0.060235</td>\n",
       "      <td>0.0</td>\n",
       "      <td>0.000000</td>\n",
       "      <td>0.000000</td>\n",
       "      <td>0.000000</td>\n",
       "      <td>0</td>\n",
       "    </tr>\n",
       "    <tr>\n",
       "      <th>2</th>\n",
       "      <td>0.082046</td>\n",
       "      <td>0.000000</td>\n",
       "      <td>0.073955</td>\n",
       "      <td>0.0</td>\n",
       "      <td>0.030767</td>\n",
       "      <td>0.0</td>\n",
       "      <td>0.0</td>\n",
       "      <td>0.0</td>\n",
       "      <td>0.0</td>\n",
       "      <td>0.348695</td>\n",
       "      <td>...</td>\n",
       "      <td>0.0</td>\n",
       "      <td>0.000000</td>\n",
       "      <td>0.220453</td>\n",
       "      <td>0.136205</td>\n",
       "      <td>0.044520</td>\n",
       "      <td>0.0</td>\n",
       "      <td>0.000000</td>\n",
       "      <td>0.000000</td>\n",
       "      <td>0.000000</td>\n",
       "      <td>0</td>\n",
       "    </tr>\n",
       "    <tr>\n",
       "      <th>3</th>\n",
       "      <td>0.171889</td>\n",
       "      <td>0.000000</td>\n",
       "      <td>0.352686</td>\n",
       "      <td>0.0</td>\n",
       "      <td>0.292211</td>\n",
       "      <td>0.0</td>\n",
       "      <td>0.0</td>\n",
       "      <td>0.0</td>\n",
       "      <td>0.0</td>\n",
       "      <td>0.275022</td>\n",
       "      <td>...</td>\n",
       "      <td>0.0</td>\n",
       "      <td>0.000000</td>\n",
       "      <td>0.000000</td>\n",
       "      <td>0.000000</td>\n",
       "      <td>0.018883</td>\n",
       "      <td>0.0</td>\n",
       "      <td>0.080115</td>\n",
       "      <td>0.064805</td>\n",
       "      <td>0.000000</td>\n",
       "      <td>0</td>\n",
       "    </tr>\n",
       "    <tr>\n",
       "      <th>4</th>\n",
       "      <td>0.287758</td>\n",
       "      <td>0.430451</td>\n",
       "      <td>0.000000</td>\n",
       "      <td>0.0</td>\n",
       "      <td>0.255785</td>\n",
       "      <td>0.0</td>\n",
       "      <td>0.0</td>\n",
       "      <td>0.0</td>\n",
       "      <td>0.0</td>\n",
       "      <td>0.191839</td>\n",
       "      <td>...</td>\n",
       "      <td>0.0</td>\n",
       "      <td>0.000000</td>\n",
       "      <td>0.000000</td>\n",
       "      <td>0.000000</td>\n",
       "      <td>0.022898</td>\n",
       "      <td>0.0</td>\n",
       "      <td>0.000000</td>\n",
       "      <td>0.000000</td>\n",
       "      <td>0.173252</td>\n",
       "      <td>0</td>\n",
       "    </tr>\n",
       "  </tbody>\n",
       "</table>\n",
       "<p>5 rows × 5941 columns</p>\n",
       "</div>"
      ],
      "text/plain": [
       "          0         1         2    3         4    5    6    7    8         9  \\\n",
       "0  0.198046  0.230344  0.000000  0.0  0.031943  0.0  0.0  0.0  0.0  0.300264   \n",
       "1  0.118230  0.214569  0.000000  0.0  0.024891  0.0  0.0  0.0  0.0  0.367136   \n",
       "2  0.082046  0.000000  0.073955  0.0  0.030767  0.0  0.0  0.0  0.0  0.348695   \n",
       "3  0.171889  0.000000  0.352686  0.0  0.292211  0.0  0.0  0.0  0.0  0.275022   \n",
       "4  0.287758  0.430451  0.000000  0.0  0.255785  0.0  0.0  0.0  0.0  0.191839   \n",
       "\n",
       "   ...  5931      5932      5933      5934      5935  5936      5937  \\\n",
       "0  ...   0.0  0.000000  0.091388  0.000000  0.059474   0.0  0.000000   \n",
       "1  ...   0.0  0.038483  0.000000  0.073522  0.060235   0.0  0.000000   \n",
       "2  ...   0.0  0.000000  0.220453  0.136205  0.044520   0.0  0.000000   \n",
       "3  ...   0.0  0.000000  0.000000  0.000000  0.018883   0.0  0.080115   \n",
       "4  ...   0.0  0.000000  0.000000  0.000000  0.022898   0.0  0.000000   \n",
       "\n",
       "       5938      5939  5940  \n",
       "0  0.066494  0.000000     0  \n",
       "1  0.000000  0.000000     0  \n",
       "2  0.000000  0.000000     0  \n",
       "3  0.064805  0.000000     0  \n",
       "4  0.000000  0.173252     0  \n",
       "\n",
       "[5 rows x 5941 columns]"
      ]
     },
     "execution_count": 4,
     "metadata": {},
     "output_type": "execute_result"
    }
   ],
   "source": [
    "recognition.head()"
   ]
  },
  {
   "cell_type": "markdown",
   "id": "6cb8de1d",
   "metadata": {},
   "source": [
    "## Rename the last column with 'Target Class' tag\n",
    "This column contains the label for each class"
   ]
  },
  {
   "cell_type": "code",
   "execution_count": 5,
   "id": "7f6a3572",
   "metadata": {},
   "outputs": [],
   "source": [
    "recognition.columns = [*recognition.columns[:-1], 'Target Class']"
   ]
  },
  {
   "cell_type": "code",
   "execution_count": 6,
   "id": "1b2950fd",
   "metadata": {},
   "outputs": [
    {
     "data": {
      "text/html": [
       "<div>\n",
       "<style scoped>\n",
       "    .dataframe tbody tr th:only-of-type {\n",
       "        vertical-align: middle;\n",
       "    }\n",
       "\n",
       "    .dataframe tbody tr th {\n",
       "        vertical-align: top;\n",
       "    }\n",
       "\n",
       "    .dataframe thead th {\n",
       "        text-align: right;\n",
       "    }\n",
       "</style>\n",
       "<table border=\"1\" class=\"dataframe\">\n",
       "  <thead>\n",
       "    <tr style=\"text-align: right;\">\n",
       "      <th></th>\n",
       "      <th>0</th>\n",
       "      <th>1</th>\n",
       "      <th>2</th>\n",
       "      <th>3</th>\n",
       "      <th>4</th>\n",
       "      <th>5</th>\n",
       "      <th>6</th>\n",
       "      <th>7</th>\n",
       "      <th>8</th>\n",
       "      <th>9</th>\n",
       "      <th>...</th>\n",
       "      <th>5931</th>\n",
       "      <th>5932</th>\n",
       "      <th>5933</th>\n",
       "      <th>5934</th>\n",
       "      <th>5935</th>\n",
       "      <th>5936</th>\n",
       "      <th>5937</th>\n",
       "      <th>5938</th>\n",
       "      <th>5939</th>\n",
       "      <th>Target Class</th>\n",
       "    </tr>\n",
       "  </thead>\n",
       "  <tbody>\n",
       "    <tr>\n",
       "      <th>0</th>\n",
       "      <td>0.198046</td>\n",
       "      <td>0.230344</td>\n",
       "      <td>0.000000</td>\n",
       "      <td>0.0</td>\n",
       "      <td>0.031943</td>\n",
       "      <td>0.0</td>\n",
       "      <td>0.0</td>\n",
       "      <td>0.0</td>\n",
       "      <td>0.0</td>\n",
       "      <td>0.300264</td>\n",
       "      <td>...</td>\n",
       "      <td>0.0</td>\n",
       "      <td>0.000000</td>\n",
       "      <td>0.091388</td>\n",
       "      <td>0.000000</td>\n",
       "      <td>0.059474</td>\n",
       "      <td>0.0</td>\n",
       "      <td>0.000000</td>\n",
       "      <td>0.066494</td>\n",
       "      <td>0.000000</td>\n",
       "      <td>0</td>\n",
       "    </tr>\n",
       "    <tr>\n",
       "      <th>1</th>\n",
       "      <td>0.118230</td>\n",
       "      <td>0.214569</td>\n",
       "      <td>0.000000</td>\n",
       "      <td>0.0</td>\n",
       "      <td>0.024891</td>\n",
       "      <td>0.0</td>\n",
       "      <td>0.0</td>\n",
       "      <td>0.0</td>\n",
       "      <td>0.0</td>\n",
       "      <td>0.367136</td>\n",
       "      <td>...</td>\n",
       "      <td>0.0</td>\n",
       "      <td>0.038483</td>\n",
       "      <td>0.000000</td>\n",
       "      <td>0.073522</td>\n",
       "      <td>0.060235</td>\n",
       "      <td>0.0</td>\n",
       "      <td>0.000000</td>\n",
       "      <td>0.000000</td>\n",
       "      <td>0.000000</td>\n",
       "      <td>0</td>\n",
       "    </tr>\n",
       "    <tr>\n",
       "      <th>2</th>\n",
       "      <td>0.082046</td>\n",
       "      <td>0.000000</td>\n",
       "      <td>0.073955</td>\n",
       "      <td>0.0</td>\n",
       "      <td>0.030767</td>\n",
       "      <td>0.0</td>\n",
       "      <td>0.0</td>\n",
       "      <td>0.0</td>\n",
       "      <td>0.0</td>\n",
       "      <td>0.348695</td>\n",
       "      <td>...</td>\n",
       "      <td>0.0</td>\n",
       "      <td>0.000000</td>\n",
       "      <td>0.220453</td>\n",
       "      <td>0.136205</td>\n",
       "      <td>0.044520</td>\n",
       "      <td>0.0</td>\n",
       "      <td>0.000000</td>\n",
       "      <td>0.000000</td>\n",
       "      <td>0.000000</td>\n",
       "      <td>0</td>\n",
       "    </tr>\n",
       "    <tr>\n",
       "      <th>3</th>\n",
       "      <td>0.171889</td>\n",
       "      <td>0.000000</td>\n",
       "      <td>0.352686</td>\n",
       "      <td>0.0</td>\n",
       "      <td>0.292211</td>\n",
       "      <td>0.0</td>\n",
       "      <td>0.0</td>\n",
       "      <td>0.0</td>\n",
       "      <td>0.0</td>\n",
       "      <td>0.275022</td>\n",
       "      <td>...</td>\n",
       "      <td>0.0</td>\n",
       "      <td>0.000000</td>\n",
       "      <td>0.000000</td>\n",
       "      <td>0.000000</td>\n",
       "      <td>0.018883</td>\n",
       "      <td>0.0</td>\n",
       "      <td>0.080115</td>\n",
       "      <td>0.064805</td>\n",
       "      <td>0.000000</td>\n",
       "      <td>0</td>\n",
       "    </tr>\n",
       "    <tr>\n",
       "      <th>4</th>\n",
       "      <td>0.287758</td>\n",
       "      <td>0.430451</td>\n",
       "      <td>0.000000</td>\n",
       "      <td>0.0</td>\n",
       "      <td>0.255785</td>\n",
       "      <td>0.0</td>\n",
       "      <td>0.0</td>\n",
       "      <td>0.0</td>\n",
       "      <td>0.0</td>\n",
       "      <td>0.191839</td>\n",
       "      <td>...</td>\n",
       "      <td>0.0</td>\n",
       "      <td>0.000000</td>\n",
       "      <td>0.000000</td>\n",
       "      <td>0.000000</td>\n",
       "      <td>0.022898</td>\n",
       "      <td>0.0</td>\n",
       "      <td>0.000000</td>\n",
       "      <td>0.000000</td>\n",
       "      <td>0.173252</td>\n",
       "      <td>0</td>\n",
       "    </tr>\n",
       "    <tr>\n",
       "      <th>...</th>\n",
       "      <td>...</td>\n",
       "      <td>...</td>\n",
       "      <td>...</td>\n",
       "      <td>...</td>\n",
       "      <td>...</td>\n",
       "      <td>...</td>\n",
       "      <td>...</td>\n",
       "      <td>...</td>\n",
       "      <td>...</td>\n",
       "      <td>...</td>\n",
       "      <td>...</td>\n",
       "      <td>...</td>\n",
       "      <td>...</td>\n",
       "      <td>...</td>\n",
       "      <td>...</td>\n",
       "      <td>...</td>\n",
       "      <td>...</td>\n",
       "      <td>...</td>\n",
       "      <td>...</td>\n",
       "      <td>...</td>\n",
       "      <td>...</td>\n",
       "    </tr>\n",
       "    <tr>\n",
       "      <th>4995</th>\n",
       "      <td>0.527076</td>\n",
       "      <td>0.000000</td>\n",
       "      <td>0.000000</td>\n",
       "      <td>0.0</td>\n",
       "      <td>0.003263</td>\n",
       "      <td>0.0</td>\n",
       "      <td>0.0</td>\n",
       "      <td>0.0</td>\n",
       "      <td>0.0</td>\n",
       "      <td>0.459052</td>\n",
       "      <td>...</td>\n",
       "      <td>0.0</td>\n",
       "      <td>0.000000</td>\n",
       "      <td>0.000000</td>\n",
       "      <td>0.000000</td>\n",
       "      <td>0.019899</td>\n",
       "      <td>0.0</td>\n",
       "      <td>0.000000</td>\n",
       "      <td>0.000000</td>\n",
       "      <td>0.418726</td>\n",
       "      <td>9</td>\n",
       "    </tr>\n",
       "    <tr>\n",
       "      <th>4996</th>\n",
       "      <td>0.486434</td>\n",
       "      <td>0.000000</td>\n",
       "      <td>0.000000</td>\n",
       "      <td>0.0</td>\n",
       "      <td>0.022391</td>\n",
       "      <td>0.0</td>\n",
       "      <td>0.0</td>\n",
       "      <td>0.0</td>\n",
       "      <td>0.0</td>\n",
       "      <td>0.516188</td>\n",
       "      <td>...</td>\n",
       "      <td>0.0</td>\n",
       "      <td>0.000000</td>\n",
       "      <td>0.000000</td>\n",
       "      <td>0.000000</td>\n",
       "      <td>0.053880</td>\n",
       "      <td>0.0</td>\n",
       "      <td>0.000000</td>\n",
       "      <td>0.000000</td>\n",
       "      <td>0.473701</td>\n",
       "      <td>9</td>\n",
       "    </tr>\n",
       "    <tr>\n",
       "      <th>4997</th>\n",
       "      <td>0.681737</td>\n",
       "      <td>0.000000</td>\n",
       "      <td>0.000000</td>\n",
       "      <td>0.0</td>\n",
       "      <td>0.034823</td>\n",
       "      <td>0.0</td>\n",
       "      <td>0.0</td>\n",
       "      <td>0.0</td>\n",
       "      <td>0.0</td>\n",
       "      <td>0.177984</td>\n",
       "      <td>...</td>\n",
       "      <td>0.0</td>\n",
       "      <td>0.000000</td>\n",
       "      <td>0.000000</td>\n",
       "      <td>0.000000</td>\n",
       "      <td>0.093822</td>\n",
       "      <td>0.0</td>\n",
       "      <td>0.000000</td>\n",
       "      <td>0.000000</td>\n",
       "      <td>0.588921</td>\n",
       "      <td>9</td>\n",
       "    </tr>\n",
       "    <tr>\n",
       "      <th>4998</th>\n",
       "      <td>0.525413</td>\n",
       "      <td>0.000000</td>\n",
       "      <td>0.000000</td>\n",
       "      <td>0.0</td>\n",
       "      <td>0.003201</td>\n",
       "      <td>0.0</td>\n",
       "      <td>0.0</td>\n",
       "      <td>0.0</td>\n",
       "      <td>0.0</td>\n",
       "      <td>0.476297</td>\n",
       "      <td>...</td>\n",
       "      <td>0.0</td>\n",
       "      <td>0.000000</td>\n",
       "      <td>0.000000</td>\n",
       "      <td>0.000000</td>\n",
       "      <td>0.035919</td>\n",
       "      <td>0.0</td>\n",
       "      <td>0.000000</td>\n",
       "      <td>0.129507</td>\n",
       "      <td>0.155014</td>\n",
       "      <td>9</td>\n",
       "    </tr>\n",
       "    <tr>\n",
       "      <th>4999</th>\n",
       "      <td>0.281143</td>\n",
       "      <td>0.000000</td>\n",
       "      <td>0.000000</td>\n",
       "      <td>0.0</td>\n",
       "      <td>0.036905</td>\n",
       "      <td>0.0</td>\n",
       "      <td>0.0</td>\n",
       "      <td>0.0</td>\n",
       "      <td>0.0</td>\n",
       "      <td>0.621493</td>\n",
       "      <td>...</td>\n",
       "      <td>0.0</td>\n",
       "      <td>0.000000</td>\n",
       "      <td>0.000000</td>\n",
       "      <td>0.000000</td>\n",
       "      <td>0.031856</td>\n",
       "      <td>0.0</td>\n",
       "      <td>0.000000</td>\n",
       "      <td>0.000000</td>\n",
       "      <td>0.662589</td>\n",
       "      <td>9</td>\n",
       "    </tr>\n",
       "  </tbody>\n",
       "</table>\n",
       "<p>5000 rows × 5941 columns</p>\n",
       "</div>"
      ],
      "text/plain": [
       "             0         1         2    3         4    5    6    7    8  \\\n",
       "0     0.198046  0.230344  0.000000  0.0  0.031943  0.0  0.0  0.0  0.0   \n",
       "1     0.118230  0.214569  0.000000  0.0  0.024891  0.0  0.0  0.0  0.0   \n",
       "2     0.082046  0.000000  0.073955  0.0  0.030767  0.0  0.0  0.0  0.0   \n",
       "3     0.171889  0.000000  0.352686  0.0  0.292211  0.0  0.0  0.0  0.0   \n",
       "4     0.287758  0.430451  0.000000  0.0  0.255785  0.0  0.0  0.0  0.0   \n",
       "...        ...       ...       ...  ...       ...  ...  ...  ...  ...   \n",
       "4995  0.527076  0.000000  0.000000  0.0  0.003263  0.0  0.0  0.0  0.0   \n",
       "4996  0.486434  0.000000  0.000000  0.0  0.022391  0.0  0.0  0.0  0.0   \n",
       "4997  0.681737  0.000000  0.000000  0.0  0.034823  0.0  0.0  0.0  0.0   \n",
       "4998  0.525413  0.000000  0.000000  0.0  0.003201  0.0  0.0  0.0  0.0   \n",
       "4999  0.281143  0.000000  0.000000  0.0  0.036905  0.0  0.0  0.0  0.0   \n",
       "\n",
       "             9  ...  5931      5932      5933      5934      5935  5936  \\\n",
       "0     0.300264  ...   0.0  0.000000  0.091388  0.000000  0.059474   0.0   \n",
       "1     0.367136  ...   0.0  0.038483  0.000000  0.073522  0.060235   0.0   \n",
       "2     0.348695  ...   0.0  0.000000  0.220453  0.136205  0.044520   0.0   \n",
       "3     0.275022  ...   0.0  0.000000  0.000000  0.000000  0.018883   0.0   \n",
       "4     0.191839  ...   0.0  0.000000  0.000000  0.000000  0.022898   0.0   \n",
       "...        ...  ...   ...       ...       ...       ...       ...   ...   \n",
       "4995  0.459052  ...   0.0  0.000000  0.000000  0.000000  0.019899   0.0   \n",
       "4996  0.516188  ...   0.0  0.000000  0.000000  0.000000  0.053880   0.0   \n",
       "4997  0.177984  ...   0.0  0.000000  0.000000  0.000000  0.093822   0.0   \n",
       "4998  0.476297  ...   0.0  0.000000  0.000000  0.000000  0.035919   0.0   \n",
       "4999  0.621493  ...   0.0  0.000000  0.000000  0.000000  0.031856   0.0   \n",
       "\n",
       "          5937      5938      5939  Target Class  \n",
       "0     0.000000  0.066494  0.000000             0  \n",
       "1     0.000000  0.000000  0.000000             0  \n",
       "2     0.000000  0.000000  0.000000             0  \n",
       "3     0.080115  0.064805  0.000000             0  \n",
       "4     0.000000  0.000000  0.173252             0  \n",
       "...        ...       ...       ...           ...  \n",
       "4995  0.000000  0.000000  0.418726             9  \n",
       "4996  0.000000  0.000000  0.473701             9  \n",
       "4997  0.000000  0.000000  0.588921             9  \n",
       "4998  0.000000  0.129507  0.155014             9  \n",
       "4999  0.000000  0.000000  0.662589             9  \n",
       "\n",
       "[5000 rows x 5941 columns]"
      ]
     },
     "execution_count": 6,
     "metadata": {},
     "output_type": "execute_result"
    }
   ],
   "source": [
    "recognition"
   ]
  },
  {
   "cell_type": "code",
   "execution_count": 7,
   "id": "4256de0f",
   "metadata": {},
   "outputs": [
    {
     "data": {
      "text/plain": [
       "array([0, 1, 2, 3, 4, 5, 6, 7, 8, 9], dtype=int64)"
      ]
     },
     "execution_count": 7,
     "metadata": {},
     "output_type": "execute_result"
    }
   ],
   "source": [
    "recognition['Target Class'].unique()"
   ]
  },
  {
   "cell_type": "markdown",
   "id": "50b83119",
   "metadata": {},
   "source": [
    "## Standardize Data using StandarScaler"
   ]
  },
  {
   "cell_type": "markdown",
   "id": "e354b23b",
   "metadata": {},
   "source": [
    "In order to get a more consistent classification, it's highly recommended to standardize data."
   ]
  },
  {
   "cell_type": "code",
   "execution_count": 8,
   "id": "b616e98a",
   "metadata": {},
   "outputs": [],
   "source": [
    "from sklearn.preprocessing import StandardScaler\n",
    "scaler = StandardScaler()"
   ]
  },
  {
   "cell_type": "code",
   "execution_count": 9,
   "id": "be66b49f",
   "metadata": {},
   "outputs": [
    {
     "data": {
      "text/plain": [
       "StandardScaler()"
      ]
     },
     "execution_count": 9,
     "metadata": {},
     "output_type": "execute_result"
    }
   ],
   "source": [
    "scaler.fit(recognition.drop('Target Class', axis=1))"
   ]
  },
  {
   "cell_type": "code",
   "execution_count": 10,
   "id": "f7ede71c",
   "metadata": {},
   "outputs": [],
   "source": [
    "scaled_data = scaler.transform(recognition.drop('Target Class',axis=1))"
   ]
  },
  {
   "cell_type": "code",
   "execution_count": 11,
   "id": "f288e37e",
   "metadata": {
    "scrolled": true
   },
   "outputs": [
    {
     "data": {
      "text/html": [
       "<div>\n",
       "<style scoped>\n",
       "    .dataframe tbody tr th:only-of-type {\n",
       "        vertical-align: middle;\n",
       "    }\n",
       "\n",
       "    .dataframe tbody tr th {\n",
       "        vertical-align: top;\n",
       "    }\n",
       "\n",
       "    .dataframe thead th {\n",
       "        text-align: right;\n",
       "    }\n",
       "</style>\n",
       "<table border=\"1\" class=\"dataframe\">\n",
       "  <thead>\n",
       "    <tr style=\"text-align: right;\">\n",
       "      <th></th>\n",
       "      <th>0</th>\n",
       "      <th>1</th>\n",
       "      <th>2</th>\n",
       "      <th>3</th>\n",
       "      <th>4</th>\n",
       "      <th>5</th>\n",
       "      <th>6</th>\n",
       "      <th>7</th>\n",
       "      <th>8</th>\n",
       "      <th>9</th>\n",
       "      <th>...</th>\n",
       "      <th>5930</th>\n",
       "      <th>5931</th>\n",
       "      <th>5932</th>\n",
       "      <th>5933</th>\n",
       "      <th>5934</th>\n",
       "      <th>5935</th>\n",
       "      <th>5936</th>\n",
       "      <th>5937</th>\n",
       "      <th>5938</th>\n",
       "      <th>5939</th>\n",
       "    </tr>\n",
       "  </thead>\n",
       "  <tbody>\n",
       "    <tr>\n",
       "      <th>0</th>\n",
       "      <td>-1.030861</td>\n",
       "      <td>1.670668</td>\n",
       "      <td>-0.207238</td>\n",
       "      <td>-0.114813</td>\n",
       "      <td>-0.558022</td>\n",
       "      <td>-0.052961</td>\n",
       "      <td>-0.050694</td>\n",
       "      <td>-0.091699</td>\n",
       "      <td>-0.355369</td>\n",
       "      <td>-0.581955</td>\n",
       "      <td>...</td>\n",
       "      <td>-0.451750</td>\n",
       "      <td>-0.575402</td>\n",
       "      <td>-0.354753</td>\n",
       "      <td>1.004828</td>\n",
       "      <td>-0.351040</td>\n",
       "      <td>-0.575324</td>\n",
       "      <td>-0.28748</td>\n",
       "      <td>-0.344119</td>\n",
       "      <td>0.596000</td>\n",
       "      <td>-0.575492</td>\n",
       "    </tr>\n",
       "    <tr>\n",
       "      <th>1</th>\n",
       "      <td>-1.371266</td>\n",
       "      <td>1.528972</td>\n",
       "      <td>-0.207238</td>\n",
       "      <td>-0.114813</td>\n",
       "      <td>-0.634160</td>\n",
       "      <td>-0.052961</td>\n",
       "      <td>-0.050694</td>\n",
       "      <td>-0.091699</td>\n",
       "      <td>-0.355369</td>\n",
       "      <td>-0.259884</td>\n",
       "      <td>...</td>\n",
       "      <td>-0.451750</td>\n",
       "      <td>-0.575402</td>\n",
       "      <td>0.167268</td>\n",
       "      <td>-0.341376</td>\n",
       "      <td>0.602720</td>\n",
       "      <td>-0.569466</td>\n",
       "      <td>-0.28748</td>\n",
       "      <td>-0.344119</td>\n",
       "      <td>-0.440352</td>\n",
       "      <td>-0.575492</td>\n",
       "    </tr>\n",
       "    <tr>\n",
       "      <th>2</th>\n",
       "      <td>-1.525588</td>\n",
       "      <td>-0.398307</td>\n",
       "      <td>0.982900</td>\n",
       "      <td>-0.114813</td>\n",
       "      <td>-0.570715</td>\n",
       "      <td>-0.052961</td>\n",
       "      <td>-0.050694</td>\n",
       "      <td>-0.091699</td>\n",
       "      <td>-0.355369</td>\n",
       "      <td>-0.348699</td>\n",
       "      <td>...</td>\n",
       "      <td>-0.451750</td>\n",
       "      <td>-0.575402</td>\n",
       "      <td>-0.354753</td>\n",
       "      <td>2.906054</td>\n",
       "      <td>1.415885</td>\n",
       "      <td>-0.690414</td>\n",
       "      <td>-0.28748</td>\n",
       "      <td>-0.344119</td>\n",
       "      <td>-0.440352</td>\n",
       "      <td>-0.575492</td>\n",
       "    </tr>\n",
       "    <tr>\n",
       "      <th>3</th>\n",
       "      <td>-1.142420</td>\n",
       "      <td>-0.398307</td>\n",
       "      <td>5.468425</td>\n",
       "      <td>-0.114813</td>\n",
       "      <td>2.251872</td>\n",
       "      <td>-0.052961</td>\n",
       "      <td>-0.050694</td>\n",
       "      <td>-0.091699</td>\n",
       "      <td>-0.355369</td>\n",
       "      <td>-0.703526</td>\n",
       "      <td>...</td>\n",
       "      <td>-0.451750</td>\n",
       "      <td>-0.575402</td>\n",
       "      <td>-0.354753</td>\n",
       "      <td>-0.341376</td>\n",
       "      <td>-0.351040</td>\n",
       "      <td>-0.887718</td>\n",
       "      <td>-0.28748</td>\n",
       "      <td>1.564069</td>\n",
       "      <td>0.569678</td>\n",
       "      <td>-0.575492</td>\n",
       "    </tr>\n",
       "    <tr>\n",
       "      <th>4</th>\n",
       "      <td>-0.648252</td>\n",
       "      <td>3.468056</td>\n",
       "      <td>-0.207238</td>\n",
       "      <td>-0.114813</td>\n",
       "      <td>1.858614</td>\n",
       "      <td>-0.052961</td>\n",
       "      <td>-0.050694</td>\n",
       "      <td>-0.091699</td>\n",
       "      <td>-0.355369</td>\n",
       "      <td>-1.104152</td>\n",
       "      <td>...</td>\n",
       "      <td>-0.451750</td>\n",
       "      <td>-0.575402</td>\n",
       "      <td>-0.354753</td>\n",
       "      <td>-0.341376</td>\n",
       "      <td>-0.351040</td>\n",
       "      <td>-0.856823</td>\n",
       "      <td>-0.28748</td>\n",
       "      <td>-0.344119</td>\n",
       "      <td>-0.440352</td>\n",
       "      <td>0.768411</td>\n",
       "    </tr>\n",
       "    <tr>\n",
       "      <th>...</th>\n",
       "      <td>...</td>\n",
       "      <td>...</td>\n",
       "      <td>...</td>\n",
       "      <td>...</td>\n",
       "      <td>...</td>\n",
       "      <td>...</td>\n",
       "      <td>...</td>\n",
       "      <td>...</td>\n",
       "      <td>...</td>\n",
       "      <td>...</td>\n",
       "      <td>...</td>\n",
       "      <td>...</td>\n",
       "      <td>...</td>\n",
       "      <td>...</td>\n",
       "      <td>...</td>\n",
       "      <td>...</td>\n",
       "      <td>...</td>\n",
       "      <td>...</td>\n",
       "      <td>...</td>\n",
       "      <td>...</td>\n",
       "      <td>...</td>\n",
       "    </tr>\n",
       "    <tr>\n",
       "      <th>4995</th>\n",
       "      <td>0.372408</td>\n",
       "      <td>-0.398307</td>\n",
       "      <td>-0.207238</td>\n",
       "      <td>-0.114813</td>\n",
       "      <td>-0.867651</td>\n",
       "      <td>-0.052961</td>\n",
       "      <td>-0.050694</td>\n",
       "      <td>-0.091699</td>\n",
       "      <td>-0.355369</td>\n",
       "      <td>0.182800</td>\n",
       "      <td>...</td>\n",
       "      <td>-0.451750</td>\n",
       "      <td>-0.575402</td>\n",
       "      <td>-0.354753</td>\n",
       "      <td>-0.341376</td>\n",
       "      <td>-0.351040</td>\n",
       "      <td>-0.879901</td>\n",
       "      <td>-0.28748</td>\n",
       "      <td>-0.344119</td>\n",
       "      <td>-0.440352</td>\n",
       "      <td>2.672533</td>\n",
       "    </tr>\n",
       "    <tr>\n",
       "      <th>4996</th>\n",
       "      <td>0.199074</td>\n",
       "      <td>-0.398307</td>\n",
       "      <td>-0.207238</td>\n",
       "      <td>-0.114813</td>\n",
       "      <td>-0.661150</td>\n",
       "      <td>-0.052961</td>\n",
       "      <td>-0.050694</td>\n",
       "      <td>-0.091699</td>\n",
       "      <td>-0.355369</td>\n",
       "      <td>0.457979</td>\n",
       "      <td>...</td>\n",
       "      <td>-0.451750</td>\n",
       "      <td>-0.575402</td>\n",
       "      <td>-0.354753</td>\n",
       "      <td>-0.341376</td>\n",
       "      <td>-0.351040</td>\n",
       "      <td>-0.618374</td>\n",
       "      <td>-0.28748</td>\n",
       "      <td>-0.344119</td>\n",
       "      <td>-0.440352</td>\n",
       "      <td>3.098976</td>\n",
       "    </tr>\n",
       "    <tr>\n",
       "      <th>4997</th>\n",
       "      <td>1.032018</td>\n",
       "      <td>-0.398307</td>\n",
       "      <td>-0.207238</td>\n",
       "      <td>-0.114813</td>\n",
       "      <td>-0.526929</td>\n",
       "      <td>-0.052961</td>\n",
       "      <td>-0.050694</td>\n",
       "      <td>-0.091699</td>\n",
       "      <td>-0.355369</td>\n",
       "      <td>-1.170881</td>\n",
       "      <td>...</td>\n",
       "      <td>0.876375</td>\n",
       "      <td>-0.575402</td>\n",
       "      <td>-0.354753</td>\n",
       "      <td>-0.341376</td>\n",
       "      <td>-0.351040</td>\n",
       "      <td>-0.310980</td>\n",
       "      <td>-0.28748</td>\n",
       "      <td>-0.344119</td>\n",
       "      <td>-0.440352</td>\n",
       "      <td>3.992727</td>\n",
       "    </tr>\n",
       "    <tr>\n",
       "      <th>4998</th>\n",
       "      <td>0.365316</td>\n",
       "      <td>-0.398307</td>\n",
       "      <td>-0.207238</td>\n",
       "      <td>-0.114813</td>\n",
       "      <td>-0.868323</td>\n",
       "      <td>-0.052961</td>\n",
       "      <td>-0.050694</td>\n",
       "      <td>-0.091699</td>\n",
       "      <td>-0.355369</td>\n",
       "      <td>0.265855</td>\n",
       "      <td>...</td>\n",
       "      <td>-0.451750</td>\n",
       "      <td>-0.575402</td>\n",
       "      <td>-0.354753</td>\n",
       "      <td>-0.341376</td>\n",
       "      <td>-0.351040</td>\n",
       "      <td>-0.756610</td>\n",
       "      <td>-0.28748</td>\n",
       "      <td>-0.344119</td>\n",
       "      <td>1.578097</td>\n",
       "      <td>0.626941</td>\n",
       "    </tr>\n",
       "    <tr>\n",
       "      <th>4999</th>\n",
       "      <td>-0.676465</td>\n",
       "      <td>-0.398307</td>\n",
       "      <td>-0.207238</td>\n",
       "      <td>-0.114813</td>\n",
       "      <td>-0.504449</td>\n",
       "      <td>-0.052961</td>\n",
       "      <td>-0.050694</td>\n",
       "      <td>-0.091699</td>\n",
       "      <td>-0.355369</td>\n",
       "      <td>0.965151</td>\n",
       "      <td>...</td>\n",
       "      <td>1.697887</td>\n",
       "      <td>-0.575402</td>\n",
       "      <td>-0.354753</td>\n",
       "      <td>-0.341376</td>\n",
       "      <td>-0.351040</td>\n",
       "      <td>-0.787880</td>\n",
       "      <td>-0.28748</td>\n",
       "      <td>-0.344119</td>\n",
       "      <td>-0.440352</td>\n",
       "      <td>4.564166</td>\n",
       "    </tr>\n",
       "  </tbody>\n",
       "</table>\n",
       "<p>5000 rows × 5940 columns</p>\n",
       "</div>"
      ],
      "text/plain": [
       "             0         1         2         3         4         5         6  \\\n",
       "0    -1.030861  1.670668 -0.207238 -0.114813 -0.558022 -0.052961 -0.050694   \n",
       "1    -1.371266  1.528972 -0.207238 -0.114813 -0.634160 -0.052961 -0.050694   \n",
       "2    -1.525588 -0.398307  0.982900 -0.114813 -0.570715 -0.052961 -0.050694   \n",
       "3    -1.142420 -0.398307  5.468425 -0.114813  2.251872 -0.052961 -0.050694   \n",
       "4    -0.648252  3.468056 -0.207238 -0.114813  1.858614 -0.052961 -0.050694   \n",
       "...        ...       ...       ...       ...       ...       ...       ...   \n",
       "4995  0.372408 -0.398307 -0.207238 -0.114813 -0.867651 -0.052961 -0.050694   \n",
       "4996  0.199074 -0.398307 -0.207238 -0.114813 -0.661150 -0.052961 -0.050694   \n",
       "4997  1.032018 -0.398307 -0.207238 -0.114813 -0.526929 -0.052961 -0.050694   \n",
       "4998  0.365316 -0.398307 -0.207238 -0.114813 -0.868323 -0.052961 -0.050694   \n",
       "4999 -0.676465 -0.398307 -0.207238 -0.114813 -0.504449 -0.052961 -0.050694   \n",
       "\n",
       "             7         8         9  ...      5930      5931      5932  \\\n",
       "0    -0.091699 -0.355369 -0.581955  ... -0.451750 -0.575402 -0.354753   \n",
       "1    -0.091699 -0.355369 -0.259884  ... -0.451750 -0.575402  0.167268   \n",
       "2    -0.091699 -0.355369 -0.348699  ... -0.451750 -0.575402 -0.354753   \n",
       "3    -0.091699 -0.355369 -0.703526  ... -0.451750 -0.575402 -0.354753   \n",
       "4    -0.091699 -0.355369 -1.104152  ... -0.451750 -0.575402 -0.354753   \n",
       "...        ...       ...       ...  ...       ...       ...       ...   \n",
       "4995 -0.091699 -0.355369  0.182800  ... -0.451750 -0.575402 -0.354753   \n",
       "4996 -0.091699 -0.355369  0.457979  ... -0.451750 -0.575402 -0.354753   \n",
       "4997 -0.091699 -0.355369 -1.170881  ...  0.876375 -0.575402 -0.354753   \n",
       "4998 -0.091699 -0.355369  0.265855  ... -0.451750 -0.575402 -0.354753   \n",
       "4999 -0.091699 -0.355369  0.965151  ...  1.697887 -0.575402 -0.354753   \n",
       "\n",
       "          5933      5934      5935     5936      5937      5938      5939  \n",
       "0     1.004828 -0.351040 -0.575324 -0.28748 -0.344119  0.596000 -0.575492  \n",
       "1    -0.341376  0.602720 -0.569466 -0.28748 -0.344119 -0.440352 -0.575492  \n",
       "2     2.906054  1.415885 -0.690414 -0.28748 -0.344119 -0.440352 -0.575492  \n",
       "3    -0.341376 -0.351040 -0.887718 -0.28748  1.564069  0.569678 -0.575492  \n",
       "4    -0.341376 -0.351040 -0.856823 -0.28748 -0.344119 -0.440352  0.768411  \n",
       "...        ...       ...       ...      ...       ...       ...       ...  \n",
       "4995 -0.341376 -0.351040 -0.879901 -0.28748 -0.344119 -0.440352  2.672533  \n",
       "4996 -0.341376 -0.351040 -0.618374 -0.28748 -0.344119 -0.440352  3.098976  \n",
       "4997 -0.341376 -0.351040 -0.310980 -0.28748 -0.344119 -0.440352  3.992727  \n",
       "4998 -0.341376 -0.351040 -0.756610 -0.28748 -0.344119  1.578097  0.626941  \n",
       "4999 -0.341376 -0.351040 -0.787880 -0.28748 -0.344119 -0.440352  4.564166  \n",
       "\n",
       "[5000 rows x 5940 columns]"
      ]
     },
     "execution_count": 11,
     "metadata": {},
     "output_type": "execute_result"
    }
   ],
   "source": [
    "pd.DataFrame(scaled_data,columns=recognition.columns[:-1])"
   ]
  },
  {
   "cell_type": "markdown",
   "id": "a9a4ed2d",
   "metadata": {},
   "source": [
    "## PCA Decomposition\n",
    "PCA is used to find the first two principal components, and visualize the data in this new, two-dimensional space, with a single scatter-plot."
   ]
  },
  {
   "cell_type": "code",
   "execution_count": 12,
   "id": "9d1cd5ed",
   "metadata": {},
   "outputs": [],
   "source": [
    "from sklearn.decomposition import PCA\n",
    "pca = PCA(n_components=2)"
   ]
  },
  {
   "cell_type": "code",
   "execution_count": 13,
   "id": "583d035a",
   "metadata": {},
   "outputs": [
    {
     "data": {
      "text/plain": [
       "PCA(n_components=2)"
      ]
     },
     "execution_count": 13,
     "metadata": {},
     "output_type": "execute_result"
    }
   ],
   "source": [
    "pca.fit(scaled_data)"
   ]
  },
  {
   "cell_type": "code",
   "execution_count": 14,
   "id": "519df257",
   "metadata": {},
   "outputs": [],
   "source": [
    "x_pca = pca.transform(scaled_data)"
   ]
  },
  {
   "cell_type": "code",
   "execution_count": 15,
   "id": "1fc66ca2",
   "metadata": {},
   "outputs": [
    {
     "data": {
      "text/plain": [
       "(5000, 5940)"
      ]
     },
     "execution_count": 15,
     "metadata": {},
     "output_type": "execute_result"
    }
   ],
   "source": [
    "scaled_data.shape"
   ]
  },
  {
   "cell_type": "code",
   "execution_count": 16,
   "id": "edb1abb1",
   "metadata": {},
   "outputs": [
    {
     "data": {
      "text/plain": [
       "(5000, 2)"
      ]
     },
     "execution_count": 16,
     "metadata": {},
     "output_type": "execute_result"
    }
   ],
   "source": [
    "x_pca.shape"
   ]
  },
  {
   "cell_type": "markdown",
   "id": "67fd1afa",
   "metadata": {},
   "source": [
    "## Scatter Plot 2-D\n",
    "In this scatter plot all the classes are compared between each other"
   ]
  },
  {
   "cell_type": "code",
   "execution_count": 17,
   "id": "a7ffb104",
   "metadata": {},
   "outputs": [
    {
     "data": {
      "text/plain": [
       "<matplotlib.legend.Legend at 0x27adf0fdc70>"
      ]
     },
     "execution_count": 17,
     "metadata": {},
     "output_type": "execute_result"
    },
    {
     "data": {
      "image/png": "[encoded data removed]",
      "text/plain": [
       "<Figure size 576x432 with 1 Axes>"
      ]
     },
     "metadata": {
      "needs_background": "light"
     },
     "output_type": "display_data"
    }
   ],
   "source": [
    "plt.figure(figsize=(8,6))\n",
    "scatter = plt.scatter(x_pca[:,0],x_pca[:,1],c=recognition['Target Class'], cmap='tab10')\n",
    "plt.xlabel('First Principal Component')\n",
    "plt.ylabel('Second Principal Component')\n",
    "plt.title('Comparison between all classes for Face-Recognition')\n",
    "plt.legend(handles=scatter.legend_elements()[0],\n",
    "           labels=['Alfredo',\n",
    "                   'Ciro',\n",
    "                   'Fabrizio',\n",
    "                   'Franco',\n",
    "                   'Ignacio',\n",
    "                   'Isabella',\n",
    "                   'Jeremias',\n",
    "                   'Julieta',\n",
    "                   'Renata',\n",
    "                   'Valentina'],\n",
    "           bbox_to_anchor=(1.05, 1),\n",
    "           loc=2)"
   ]
  },
  {
   "cell_type": "markdown",
   "id": "e16d3635",
   "metadata": {},
   "source": [
    "From the figure below, we concluded that using PCA decomposition in 2-D space is not enough for using SVM as a classificator, so we try to use in a high order space. "
   ]
  },
  {
   "cell_type": "markdown",
   "id": "494bc268",
   "metadata": {},
   "source": [
    "## PCA Decomposition in more components\n"
   ]
  },
  {
   "cell_type": "markdown",
   "id": "a2d5f51c",
   "metadata": {},
   "source": [
    "PCA now is used to find the 66 principal components, it represents a 1% from the originals features that are 5940 components."
   ]
  },
  {
   "cell_type": "code",
   "execution_count": 12,
   "id": "9351f442",
   "metadata": {},
   "outputs": [],
   "source": [
    "from sklearn.model_selection import train_test_split\n",
    "from sklearn.decomposition import PCA\n",
    "pca = PCA(n_components=66)"
   ]
  },
  {
   "cell_type": "code",
   "execution_count": 13,
   "id": "b9525964",
   "metadata": {},
   "outputs": [
    {
     "data": {
      "text/plain": [
       "PCA(n_components=66)"
      ]
     },
     "execution_count": 13,
     "metadata": {},
     "output_type": "execute_result"
    }
   ],
   "source": [
    "pca.fit(scaled_data)"
   ]
  },
  {
   "cell_type": "code",
   "execution_count": 14,
   "id": "98ce33af",
   "metadata": {},
   "outputs": [],
   "source": [
    "x_pca = pca.transform(scaled_data)"
   ]
  },
  {
   "cell_type": "markdown",
   "id": "b74d7b3e",
   "metadata": {},
   "source": [
    "## Train Test Split"
   ]
  },
  {
   "cell_type": "markdown",
   "id": "bc3b3833",
   "metadata": {},
   "source": [
    "Separate the dataset in two parts, 70% for training and 30% for testing."
   ]
  },
  {
   "cell_type": "code",
   "execution_count": 15,
   "id": "3ebb4945",
   "metadata": {},
   "outputs": [],
   "source": [
    "from sklearn.model_selection import train_test_split"
   ]
  },
  {
   "cell_type": "code",
   "execution_count": 16,
   "id": "1d7740a1",
   "metadata": {},
   "outputs": [],
   "source": [
    "X=x_pca\n",
    "y=recognition['Target Class'].values"
   ]
  },
  {
   "cell_type": "code",
   "execution_count": 17,
   "id": "fb344f46",
   "metadata": {},
   "outputs": [],
   "source": [
    "X_train, X_test, y_train, y_test = train_test_split(X, y, test_size=0.3, random_state=42)"
   ]
  },
  {
   "cell_type": "markdown",
   "id": "19f531c0",
   "metadata": {},
   "source": [
    "## Try using KNeighborsClassifier"
   ]
  },
  {
   "cell_type": "markdown",
   "id": "f5869551",
   "metadata": {},
   "source": [
    "In this section, we explore another alternative for supervised learning, and it is KNeighbors. Here, we check how increase the error rate as far as we increased the main parameter for the classifier."
   ]
  },
  {
   "cell_type": "code",
   "execution_count": 24,
   "id": "dc2ccbeb",
   "metadata": {},
   "outputs": [],
   "source": [
    "from sklearn.neighbors import KNeighborsClassifier"
   ]
  },
  {
   "cell_type": "code",
   "execution_count": 37,
   "id": "0fdfa12c",
   "metadata": {},
   "outputs": [],
   "source": [
    "knn_error_rate = []\n",
    "\n",
    "# Will take some time\n",
    "for i in range(1,100):\n",
    "    \n",
    "    knn = KNeighborsClassifier(n_neighbors=i)\n",
    "    knn.fit(X_train,y_train)\n",
    "    pred_i = knn.predict(X_test)\n",
    "    knn_error_rate.append(np.mean(pred_i != y_test))"
   ]
  },
  {
   "cell_type": "code",
   "execution_count": 38,
   "id": "6454cf40",
   "metadata": {},
   "outputs": [
    {
     "data": {
      "text/plain": [
       "Text(0, 0.5, 'KNN Error Rate')"
      ]
     },
     "execution_count": 38,
     "metadata": {},
     "output_type": "execute_result"
    },
    {
     "data": {
      "image/png": "[encoded data removed]",
      "text/plain": [
       "<Figure size 720x432 with 1 Axes>"
      ]
     },
     "metadata": {
      "needs_background": "light"
     },
     "output_type": "display_data"
    }
   ],
   "source": [
    "plt.figure(figsize=(10,6))\n",
    "plt.plot(range(1,100),knn_error_rate,color='blue', linestyle='dashed', marker='o',\n",
    "         markerfacecolor='red', markersize=10)\n",
    "plt.title('Error Rate vs. K Value')\n",
    "plt.xlabel('K')\n",
    "plt.ylabel('KNN Error Rate')"
   ]
  },
  {
   "cell_type": "markdown",
   "id": "3579b206",
   "metadata": {},
   "source": [
    "## Try using SVM with Linear Kernel"
   ]
  },
  {
   "cell_type": "markdown",
   "id": "95bbe7bc",
   "metadata": {},
   "source": [
    "In this section, we use GridSearchCV to get the best parameter for Support Vector Machine using a Linear kernel, to compare the score with the other one got from KNeighbors."
   ]
  },
  {
   "cell_type": "code",
   "execution_count": 25,
   "id": "5648c4ea",
   "metadata": {},
   "outputs": [],
   "source": [
    "from sklearn.model_selection import GridSearchCV\n",
    "from sklearn.multiclass import OneVsRestClassifier\n",
    "from sklearn.svm import SVC,LinearSVC"
   ]
  },
  {
   "cell_type": "code",
   "execution_count": 26,
   "id": "f62d69a9",
   "metadata": {},
   "outputs": [],
   "source": [
    "param_grid = {'estimator__C':[1e-9,1e-8,1e-7,1e-6,1e-5,1e-4,1e-3,1e-2,1e-1,1,10,100,1000,10000,100000,1e6,1e7,1e8,1e9]}"
   ]
  },
  {
   "cell_type": "code",
   "execution_count": 27,
   "id": "250f9702",
   "metadata": {},
   "outputs": [],
   "source": [
    "grid = GridSearchCV(OneVsRestClassifier(LinearSVC(max_iter=10000000)),param_grid,verbose=3)"
   ]
  },
  {
   "cell_type": "code",
   "execution_count": 28,
   "id": "b1bdec4f",
   "metadata": {},
   "outputs": [
    {
     "name": "stdout",
     "output_type": "stream",
     "text": [
      "Fitting 5 folds for each of 19 candidates, totalling 95 fits\n",
      "[CV 1/5] END ................estimator__C=1e-09;, score=0.990 total time=   0.0s\n",
      "[CV 2/5] END ................estimator__C=1e-09;, score=0.989 total time=   0.0s\n",
      "[CV 3/5] END ................estimator__C=1e-09;, score=0.996 total time=   0.0s\n",
      "[CV 4/5] END ................estimator__C=1e-09;, score=0.997 total time=   0.0s\n",
      "[CV 5/5] END ................estimator__C=1e-09;, score=0.989 total time=   0.0s\n",
      "[CV 1/5] END ................estimator__C=1e-08;, score=0.991 total time=   0.0s\n",
      "[CV 2/5] END ................estimator__C=1e-08;, score=0.989 total time=   0.0s\n",
      "[CV 3/5] END ................estimator__C=1e-08;, score=0.997 total time=   0.0s\n",
      "[CV 4/5] END ................estimator__C=1e-08;, score=0.997 total time=   0.0s\n",
      "[CV 5/5] END ................estimator__C=1e-08;, score=0.989 total time=   0.0s\n",
      "[CV 1/5] END ................estimator__C=1e-07;, score=0.993 total time=   0.0s\n",
      "[CV 2/5] END ................estimator__C=1e-07;, score=0.991 total time=   0.0s\n",
      "[CV 3/5] END ................estimator__C=1e-07;, score=0.997 total time=   0.0s\n",
      "[CV 4/5] END ................estimator__C=1e-07;, score=0.997 total time=   0.0s\n",
      "[CV 5/5] END ................estimator__C=1e-07;, score=0.991 total time=   0.0s\n",
      "[CV 1/5] END ................estimator__C=1e-06;, score=1.000 total time=   0.0s\n",
      "[CV 2/5] END ................estimator__C=1e-06;, score=0.999 total time=   0.0s\n",
      "[CV 3/5] END ................estimator__C=1e-06;, score=1.000 total time=   0.0s\n",
      "[CV 4/5] END ................estimator__C=1e-06;, score=0.999 total time=   0.0s\n",
      "[CV 5/5] END ................estimator__C=1e-06;, score=0.996 total time=   0.0s\n",
      "[CV 1/5] END ................estimator__C=1e-05;, score=1.000 total time=   0.0s\n",
      "[CV 2/5] END ................estimator__C=1e-05;, score=0.999 total time=   0.0s\n",
      "[CV 3/5] END ................estimator__C=1e-05;, score=1.000 total time=   0.0s\n",
      "[CV 4/5] END ................estimator__C=1e-05;, score=1.000 total time=   0.0s\n",
      "[CV 5/5] END ................estimator__C=1e-05;, score=0.997 total time=   0.0s\n",
      "[CV 1/5] END ...............estimator__C=0.0001;, score=1.000 total time=   0.0s\n",
      "[CV 2/5] END ...............estimator__C=0.0001;, score=0.999 total time=   0.0s\n",
      "[CV 3/5] END ...............estimator__C=0.0001;, score=1.000 total time=   0.0s\n",
      "[CV 4/5] END ...............estimator__C=0.0001;, score=1.000 total time=   0.0s\n",
      "[CV 5/5] END ...............estimator__C=0.0001;, score=0.997 total time=   0.0s\n",
      "[CV 1/5] END ................estimator__C=0.001;, score=1.000 total time=   0.1s\n",
      "[CV 2/5] END ................estimator__C=0.001;, score=0.999 total time=   0.1s\n",
      "[CV 3/5] END ................estimator__C=0.001;, score=1.000 total time=   0.1s\n",
      "[CV 4/5] END ................estimator__C=0.001;, score=1.000 total time=   0.1s\n",
      "[CV 5/5] END ................estimator__C=0.001;, score=0.997 total time=   0.1s\n",
      "[CV 1/5] END .................estimator__C=0.01;, score=1.000 total time=   0.5s\n",
      "[CV 2/5] END .................estimator__C=0.01;, score=1.000 total time=   0.4s\n",
      "[CV 3/5] END .................estimator__C=0.01;, score=1.000 total time=   0.5s\n",
      "[CV 4/5] END .................estimator__C=0.01;, score=1.000 total time=   0.5s\n",
      "[CV 5/5] END .................estimator__C=0.01;, score=1.000 total time=   0.5s\n",
      "[CV 1/5] END ..................estimator__C=0.1;, score=1.000 total time=   1.3s\n",
      "[CV 2/5] END ..................estimator__C=0.1;, score=1.000 total time=   1.0s\n",
      "[CV 3/5] END ..................estimator__C=0.1;, score=1.000 total time=   1.0s\n",
      "[CV 4/5] END ..................estimator__C=0.1;, score=1.000 total time=   1.1s\n",
      "[CV 5/5] END ..................estimator__C=0.1;, score=1.000 total time=   1.2s\n",
      "[CV 1/5] END ....................estimator__C=1;, score=1.000 total time=   4.2s\n",
      "[CV 2/5] END ....................estimator__C=1;, score=1.000 total time=   3.8s\n",
      "[CV 3/5] END ....................estimator__C=1;, score=1.000 total time=   4.0s\n",
      "[CV 4/5] END ....................estimator__C=1;, score=1.000 total time=   4.1s\n",
      "[CV 5/5] END ....................estimator__C=1;, score=0.999 total time=   4.7s\n",
      "[CV 1/5] END ...................estimator__C=10;, score=1.000 total time=  10.5s\n",
      "[CV 2/5] END ...................estimator__C=10;, score=1.000 total time=   6.6s\n",
      "[CV 3/5] END ...................estimator__C=10;, score=1.000 total time=   6.7s\n",
      "[CV 4/5] END ...................estimator__C=10;, score=1.000 total time=   8.0s\n",
      "[CV 5/5] END ...................estimator__C=10;, score=0.999 total time=  10.4s\n",
      "[CV 1/5] END ..................estimator__C=100;, score=1.000 total time=   7.7s\n",
      "[CV 2/5] END ..................estimator__C=100;, score=1.000 total time=   5.4s\n",
      "[CV 3/5] END ..................estimator__C=100;, score=1.000 total time=   8.4s\n",
      "[CV 4/5] END ..................estimator__C=100;, score=1.000 total time=   5.6s\n",
      "[CV 5/5] END ..................estimator__C=100;, score=0.999 total time=   6.7s\n",
      "[CV 1/5] END .................estimator__C=1000;, score=1.000 total time=   8.6s\n",
      "[CV 2/5] END .................estimator__C=1000;, score=1.000 total time=   5.8s\n",
      "[CV 3/5] END .................estimator__C=1000;, score=1.000 total time=   6.6s\n",
      "[CV 4/5] END .................estimator__C=1000;, score=1.000 total time=   8.0s\n",
      "[CV 5/5] END .................estimator__C=1000;, score=0.999 total time=   7.3s\n",
      "[CV 1/5] END ................estimator__C=10000;, score=1.000 total time=   8.5s\n",
      "[CV 2/5] END ................estimator__C=10000;, score=1.000 total time=   6.2s\n",
      "[CV 3/5] END ................estimator__C=10000;, score=1.000 total time=   6.8s\n",
      "[CV 4/5] END ................estimator__C=10000;, score=1.000 total time=   6.3s\n",
      "[CV 5/5] END ................estimator__C=10000;, score=0.999 total time=   7.3s\n",
      "[CV 1/5] END ...............estimator__C=100000;, score=1.000 total time=   8.4s\n",
      "[CV 2/5] END ...............estimator__C=100000;, score=1.000 total time=   6.9s\n",
      "[CV 3/5] END ...............estimator__C=100000;, score=1.000 total time=   9.4s\n",
      "[CV 4/5] END ...............estimator__C=100000;, score=1.000 total time=   7.0s\n",
      "[CV 5/5] END ...............estimator__C=100000;, score=0.999 total time=   7.1s\n",
      "[CV 1/5] END ............estimator__C=1000000.0;, score=1.000 total time=   8.2s\n",
      "[CV 2/5] END ............estimator__C=1000000.0;, score=1.000 total time=   5.6s\n",
      "[CV 3/5] END ............estimator__C=1000000.0;, score=1.000 total time=   6.3s\n",
      "[CV 4/5] END ............estimator__C=1000000.0;, score=1.000 total time=   6.7s\n",
      "[CV 5/5] END ............estimator__C=1000000.0;, score=0.999 total time=   7.1s\n",
      "[CV 1/5] END ...........estimator__C=10000000.0;, score=1.000 total time=   7.9s\n",
      "[CV 2/5] END ...........estimator__C=10000000.0;, score=1.000 total time=   5.5s\n",
      "[CV 3/5] END ...........estimator__C=10000000.0;, score=1.000 total time=   6.9s\n",
      "[CV 4/5] END ...........estimator__C=10000000.0;, score=1.000 total time=   6.8s\n",
      "[CV 5/5] END ...........estimator__C=10000000.0;, score=0.999 total time=   6.1s\n",
      "[CV 1/5] END ..........estimator__C=100000000.0;, score=1.000 total time=   7.2s\n",
      "[CV 2/5] END ..........estimator__C=100000000.0;, score=1.000 total time=   5.1s\n",
      "[CV 3/5] END ..........estimator__C=100000000.0;, score=1.000 total time=   8.6s\n",
      "[CV 4/5] END ..........estimator__C=100000000.0;, score=1.000 total time=   7.5s\n",
      "[CV 5/5] END ..........estimator__C=100000000.0;, score=0.999 total time=   8.9s\n",
      "[CV 1/5] END .........estimator__C=1000000000.0;, score=1.000 total time=   7.3s\n",
      "[CV 2/5] END .........estimator__C=1000000000.0;, score=1.000 total time=   5.7s\n",
      "[CV 3/5] END .........estimator__C=1000000000.0;, score=1.000 total time=   7.2s\n",
      "[CV 4/5] END .........estimator__C=1000000000.0;, score=1.000 total time=   6.7s\n",
      "[CV 5/5] END .........estimator__C=1000000000.0;, score=0.999 total time=   6.9s\n"
     ]
    },
    {
     "data": {
      "text/plain": [
       "GridSearchCV(estimator=OneVsRestClassifier(estimator=LinearSVC(max_iter=10000000)),\n",
       "             param_grid={'estimator__C': [1e-09, 1e-08, 1e-07, 1e-06, 1e-05,\n",
       "                                          0.0001, 0.001, 0.01, 0.1, 1, 10, 100,\n",
       "                                          1000, 10000, 100000, 1000000.0,\n",
       "                                          10000000.0, 100000000.0,\n",
       "                                          1000000000.0]},\n",
       "             verbose=3)"
      ]
     },
     "execution_count": 28,
     "metadata": {},
     "output_type": "execute_result"
    }
   ],
   "source": [
    "grid.fit(X_train, y_train)"
   ]
  },
  {
   "cell_type": "code",
   "execution_count": 29,
   "id": "039132d3",
   "metadata": {},
   "outputs": [
    {
     "data": {
      "text/plain": [
       "{'estimator__C': 0.01}"
      ]
     },
     "execution_count": 29,
     "metadata": {},
     "output_type": "execute_result"
    }
   ],
   "source": [
    "grid.best_params_"
   ]
  },
  {
   "cell_type": "code",
   "execution_count": 119,
   "id": "8536676a",
   "metadata": {},
   "outputs": [
    {
     "data": {
      "text/plain": [
       "1.0"
      ]
     },
     "execution_count": 119,
     "metadata": {},
     "output_type": "execute_result"
    }
   ],
   "source": [
    "grid.best_score_"
   ]
  },
  {
   "cell_type": "markdown",
   "id": "6a8cd7cd",
   "metadata": {},
   "source": [
    "In order to make sure that we are not choosing a too small parameter, we took C=0.1 as the best fit to our Machine Learning Model trained with Support Vector Machine."
   ]
  },
  {
   "cell_type": "markdown",
   "id": "e23341b0",
   "metadata": {},
   "source": [
    "## Try using SVM with RBF Kernel"
   ]
  },
  {
   "cell_type": "markdown",
   "id": "a4fe3b8f",
   "metadata": {},
   "source": [
    "In this section, we use GridSearchCV to get the best parameter for Support Vector Machine using a RBF kernel, to compare the score with the other one got from KNeighbors."
   ]
  },
  {
   "cell_type": "code",
   "execution_count": 21,
   "id": "ecb5876b",
   "metadata": {},
   "outputs": [],
   "source": [
    "from sklearn.model_selection import GridSearchCV\n",
    "from sklearn.multiclass import OneVsRestClassifier\n",
    "from sklearn.svm import SVC,LinearSVC"
   ]
  },
  {
   "cell_type": "code",
   "execution_count": 32,
   "id": "1562c6d3",
   "metadata": {},
   "outputs": [],
   "source": [
    "param_grid_rbf = {'estimator__C':[1e-4,1e-3,1e-2,1e-1,1,10,100,1000,10000],\n",
    "                  'estimator__gamma':[0.001,0.01,0.1,1,10,1],\n",
    "                  'estimator__kernel':['rbf']\n",
    "                 }"
   ]
  },
  {
   "cell_type": "code",
   "execution_count": 33,
   "id": "108cceb4",
   "metadata": {},
   "outputs": [],
   "source": [
    "grid_rbf = GridSearchCV(OneVsRestClassifier(SVC(max_iter=100000)),param_grid_rbf,verbose=3)"
   ]
  },
  {
   "cell_type": "code",
   "execution_count": 35,
   "id": "c0fc41f7",
   "metadata": {},
   "outputs": [
    {
     "name": "stdout",
     "output_type": "stream",
     "text": [
      "Fitting 5 folds for each of 54 candidates, totalling 270 fits\n",
      "[CV 1/5] END estimator__C=0.0001, estimator__gamma=0.001, estimator__kernel=rbf;, score=1.000 total time=   0.8s\n",
      "[CV 2/5] END estimator__C=0.0001, estimator__gamma=0.001, estimator__kernel=rbf;, score=0.999 total time=   0.9s\n",
      "[CV 3/5] END estimator__C=0.0001, estimator__gamma=0.001, estimator__kernel=rbf;, score=1.000 total time=   0.8s\n",
      "[CV 4/5] END estimator__C=0.0001, estimator__gamma=0.001, estimator__kernel=rbf;, score=1.000 total time=   0.8s\n",
      "[CV 5/5] END estimator__C=0.0001, estimator__gamma=0.001, estimator__kernel=rbf;, score=1.000 total time=   0.9s\n",
      "[CV 1/5] END estimator__C=0.0001, estimator__gamma=0.01, estimator__kernel=rbf;, score=0.999 total time=   0.9s\n",
      "[CV 2/5] END estimator__C=0.0001, estimator__gamma=0.01, estimator__kernel=rbf;, score=1.000 total time=   0.8s\n",
      "[CV 3/5] END estimator__C=0.0001, estimator__gamma=0.01, estimator__kernel=rbf;, score=0.996 total time=   0.8s\n",
      "[CV 4/5] END estimator__C=0.0001, estimator__gamma=0.01, estimator__kernel=rbf;, score=0.999 total time=   0.9s\n",
      "[CV 5/5] END estimator__C=0.0001, estimator__gamma=0.01, estimator__kernel=rbf;, score=1.000 total time=   0.8s\n",
      "[CV 1/5] END estimator__C=0.0001, estimator__gamma=0.1, estimator__kernel=rbf;, score=0.699 total time=   0.9s\n",
      "[CV 2/5] END estimator__C=0.0001, estimator__gamma=0.1, estimator__kernel=rbf;, score=0.686 total time=   0.9s\n",
      "[CV 3/5] END estimator__C=0.0001, estimator__gamma=0.1, estimator__kernel=rbf;, score=0.693 total time=   0.9s\n",
      "[CV 4/5] END estimator__C=0.0001, estimator__gamma=0.1, estimator__kernel=rbf;, score=0.704 total time=   0.9s\n",
      "[CV 5/5] END estimator__C=0.0001, estimator__gamma=0.1, estimator__kernel=rbf;, score=0.700 total time=   0.9s\n",
      "[CV 1/5] END estimator__C=0.0001, estimator__gamma=1, estimator__kernel=rbf;, score=0.097 total time=   1.4s\n",
      "[CV 2/5] END estimator__C=0.0001, estimator__gamma=1, estimator__kernel=rbf;, score=0.097 total time=   1.4s\n",
      "[CV 3/5] END estimator__C=0.0001, estimator__gamma=1, estimator__kernel=rbf;, score=0.099 total time=   1.4s\n",
      "[CV 4/5] END estimator__C=0.0001, estimator__gamma=1, estimator__kernel=rbf;, score=0.099 total time=   1.4s\n",
      "[CV 5/5] END estimator__C=0.0001, estimator__gamma=1, estimator__kernel=rbf;, score=0.097 total time=   1.5s\n",
      "[CV 1/5] END estimator__C=0.0001, estimator__gamma=10, estimator__kernel=rbf;, score=0.097 total time=   1.4s\n",
      "[CV 2/5] END estimator__C=0.0001, estimator__gamma=10, estimator__kernel=rbf;, score=0.097 total time=   1.4s\n",
      "[CV 3/5] END estimator__C=0.0001, estimator__gamma=10, estimator__kernel=rbf;, score=0.099 total time=   1.4s\n",
      "[CV 4/5] END estimator__C=0.0001, estimator__gamma=10, estimator__kernel=rbf;, score=0.099 total time=   1.5s\n",
      "[CV 5/5] END estimator__C=0.0001, estimator__gamma=10, estimator__kernel=rbf;, score=0.097 total time=   1.4s\n",
      "[CV 1/5] END estimator__C=0.0001, estimator__gamma=1, estimator__kernel=rbf;, score=0.097 total time=   1.4s\n",
      "[CV 2/5] END estimator__C=0.0001, estimator__gamma=1, estimator__kernel=rbf;, score=0.097 total time=   1.4s\n",
      "[CV 3/5] END estimator__C=0.0001, estimator__gamma=1, estimator__kernel=rbf;, score=0.099 total time=   1.4s\n",
      "[CV 4/5] END estimator__C=0.0001, estimator__gamma=1, estimator__kernel=rbf;, score=0.099 total time=   1.4s\n",
      "[CV 5/5] END estimator__C=0.0001, estimator__gamma=1, estimator__kernel=rbf;, score=0.097 total time=   1.5s\n",
      "[CV 1/5] END estimator__C=0.001, estimator__gamma=0.001, estimator__kernel=rbf;, score=1.000 total time=   0.8s\n",
      "[CV 2/5] END estimator__C=0.001, estimator__gamma=0.001, estimator__kernel=rbf;, score=0.999 total time=   0.8s\n",
      "[CV 3/5] END estimator__C=0.001, estimator__gamma=0.001, estimator__kernel=rbf;, score=1.000 total time=   0.9s\n",
      "[CV 4/5] END estimator__C=0.001, estimator__gamma=0.001, estimator__kernel=rbf;, score=1.000 total time=   0.9s\n",
      "[CV 5/5] END estimator__C=0.001, estimator__gamma=0.001, estimator__kernel=rbf;, score=1.000 total time=   0.8s\n",
      "[CV 1/5] END estimator__C=0.001, estimator__gamma=0.01, estimator__kernel=rbf;, score=0.999 total time=   0.8s\n",
      "[CV 2/5] END estimator__C=0.001, estimator__gamma=0.01, estimator__kernel=rbf;, score=1.000 total time=   0.8s\n",
      "[CV 3/5] END estimator__C=0.001, estimator__gamma=0.01, estimator__kernel=rbf;, score=0.996 total time=   0.8s\n",
      "[CV 4/5] END estimator__C=0.001, estimator__gamma=0.01, estimator__kernel=rbf;, score=0.999 total time=   0.9s\n",
      "[CV 5/5] END estimator__C=0.001, estimator__gamma=0.01, estimator__kernel=rbf;, score=1.000 total time=   0.8s\n",
      "[CV 1/5] END estimator__C=0.001, estimator__gamma=0.1, estimator__kernel=rbf;, score=0.737 total time=   1.4s\n",
      "[CV 2/5] END estimator__C=0.001, estimator__gamma=0.1, estimator__kernel=rbf;, score=0.757 total time=   1.4s\n",
      "[CV 3/5] END estimator__C=0.001, estimator__gamma=0.1, estimator__kernel=rbf;, score=0.731 total time=   1.3s\n",
      "[CV 4/5] END estimator__C=0.001, estimator__gamma=0.1, estimator__kernel=rbf;, score=0.731 total time=   1.4s\n",
      "[CV 5/5] END estimator__C=0.001, estimator__gamma=0.1, estimator__kernel=rbf;, score=0.734 total time=   1.4s\n",
      "[CV 1/5] END estimator__C=0.001, estimator__gamma=1, estimator__kernel=rbf;, score=0.097 total time=   2.2s\n",
      "[CV 2/5] END estimator__C=0.001, estimator__gamma=1, estimator__kernel=rbf;, score=0.097 total time=   2.2s\n",
      "[CV 3/5] END estimator__C=0.001, estimator__gamma=1, estimator__kernel=rbf;, score=0.099 total time=   2.2s\n",
      "[CV 4/5] END estimator__C=0.001, estimator__gamma=1, estimator__kernel=rbf;, score=0.099 total time=   2.5s\n",
      "[CV 5/5] END estimator__C=0.001, estimator__gamma=1, estimator__kernel=rbf;, score=0.097 total time=   2.2s\n",
      "[CV 1/5] END estimator__C=0.001, estimator__gamma=10, estimator__kernel=rbf;, score=0.097 total time=   2.2s\n",
      "[CV 2/5] END estimator__C=0.001, estimator__gamma=10, estimator__kernel=rbf;, score=0.097 total time=   2.2s\n",
      "[CV 3/5] END estimator__C=0.001, estimator__gamma=10, estimator__kernel=rbf;, score=0.099 total time=   2.2s\n",
      "[CV 4/5] END estimator__C=0.001, estimator__gamma=10, estimator__kernel=rbf;, score=0.099 total time=   2.2s\n",
      "[CV 5/5] END estimator__C=0.001, estimator__gamma=10, estimator__kernel=rbf;, score=0.097 total time=   2.2s\n",
      "[CV 1/5] END estimator__C=0.001, estimator__gamma=1, estimator__kernel=rbf;, score=0.097 total time=   2.2s\n",
      "[CV 2/5] END estimator__C=0.001, estimator__gamma=1, estimator__kernel=rbf;, score=0.097 total time=   2.3s\n",
      "[CV 3/5] END estimator__C=0.001, estimator__gamma=1, estimator__kernel=rbf;, score=0.099 total time=   2.2s\n",
      "[CV 4/5] END estimator__C=0.001, estimator__gamma=1, estimator__kernel=rbf;, score=0.099 total time=   2.2s\n",
      "[CV 5/5] END estimator__C=0.001, estimator__gamma=1, estimator__kernel=rbf;, score=0.097 total time=   2.2s\n",
      "[CV 1/5] END estimator__C=0.01, estimator__gamma=0.001, estimator__kernel=rbf;, score=1.000 total time=   1.2s\n",
      "[CV 2/5] END estimator__C=0.01, estimator__gamma=0.001, estimator__kernel=rbf;, score=0.999 total time=   1.2s\n",
      "[CV 3/5] END estimator__C=0.01, estimator__gamma=0.001, estimator__kernel=rbf;, score=1.000 total time=   1.2s\n",
      "[CV 4/5] END estimator__C=0.01, estimator__gamma=0.001, estimator__kernel=rbf;, score=1.000 total time=   1.2s\n",
      "[CV 5/5] END estimator__C=0.01, estimator__gamma=0.001, estimator__kernel=rbf;, score=1.000 total time=   1.2s\n",
      "[CV 1/5] END estimator__C=0.01, estimator__gamma=0.01, estimator__kernel=rbf;, score=0.977 total time=   4.2s\n",
      "[CV 2/5] END estimator__C=0.01, estimator__gamma=0.01, estimator__kernel=rbf;, score=0.966 total time=   4.2s\n",
      "[CV 3/5] END estimator__C=0.01, estimator__gamma=0.01, estimator__kernel=rbf;, score=0.964 total time=   4.1s\n",
      "[CV 4/5] END estimator__C=0.01, estimator__gamma=0.01, estimator__kernel=rbf;, score=0.953 total time=   4.2s\n",
      "[CV 5/5] END estimator__C=0.01, estimator__gamma=0.01, estimator__kernel=rbf;, score=0.971 total time=   4.1s\n",
      "[CV 1/5] END estimator__C=0.01, estimator__gamma=0.1, estimator__kernel=rbf;, score=0.107 total time=   4.8s\n",
      "[CV 2/5] END estimator__C=0.01, estimator__gamma=0.1, estimator__kernel=rbf;, score=0.109 total time=   4.7s\n",
      "[CV 3/5] END estimator__C=0.01, estimator__gamma=0.1, estimator__kernel=rbf;, score=0.109 total time=   4.7s\n",
      "[CV 4/5] END estimator__C=0.01, estimator__gamma=0.1, estimator__kernel=rbf;, score=0.111 total time=   4.8s\n"
     ]
    },
    {
     "name": "stdout",
     "output_type": "stream",
     "text": [
      "[CV 5/5] END estimator__C=0.01, estimator__gamma=0.1, estimator__kernel=rbf;, score=0.110 total time=   4.8s\n",
      "[CV 1/5] END estimator__C=0.01, estimator__gamma=1, estimator__kernel=rbf;, score=0.106 total time=   7.3s\n",
      "[CV 2/5] END estimator__C=0.01, estimator__gamma=1, estimator__kernel=rbf;, score=0.104 total time=   7.5s\n",
      "[CV 3/5] END estimator__C=0.01, estimator__gamma=1, estimator__kernel=rbf;, score=0.104 total time=   7.3s\n",
      "[CV 4/5] END estimator__C=0.01, estimator__gamma=1, estimator__kernel=rbf;, score=0.106 total time=   7.4s\n",
      "[CV 5/5] END estimator__C=0.01, estimator__gamma=1, estimator__kernel=rbf;, score=0.106 total time=   7.3s\n",
      "[CV 1/5] END estimator__C=0.01, estimator__gamma=10, estimator__kernel=rbf;, score=0.106 total time=   7.4s\n",
      "[CV 2/5] END estimator__C=0.01, estimator__gamma=10, estimator__kernel=rbf;, score=0.104 total time=   7.6s\n",
      "[CV 3/5] END estimator__C=0.01, estimator__gamma=10, estimator__kernel=rbf;, score=0.104 total time=   7.4s\n",
      "[CV 4/5] END estimator__C=0.01, estimator__gamma=10, estimator__kernel=rbf;, score=0.106 total time=   7.3s\n",
      "[CV 5/5] END estimator__C=0.01, estimator__gamma=10, estimator__kernel=rbf;, score=0.106 total time=   7.5s\n",
      "[CV 1/5] END estimator__C=0.01, estimator__gamma=1, estimator__kernel=rbf;, score=0.106 total time=   7.3s\n",
      "[CV 2/5] END estimator__C=0.01, estimator__gamma=1, estimator__kernel=rbf;, score=0.104 total time=   7.4s\n",
      "[CV 3/5] END estimator__C=0.01, estimator__gamma=1, estimator__kernel=rbf;, score=0.104 total time=   7.4s\n",
      "[CV 4/5] END estimator__C=0.01, estimator__gamma=1, estimator__kernel=rbf;, score=0.106 total time=   7.4s\n",
      "[CV 5/5] END estimator__C=0.01, estimator__gamma=1, estimator__kernel=rbf;, score=0.106 total time=   7.3s\n",
      "[CV 1/5] END estimator__C=0.1, estimator__gamma=0.001, estimator__kernel=rbf;, score=1.000 total time=   1.1s\n",
      "[CV 2/5] END estimator__C=0.1, estimator__gamma=0.001, estimator__kernel=rbf;, score=1.000 total time=   1.1s\n",
      "[CV 3/5] END estimator__C=0.1, estimator__gamma=0.001, estimator__kernel=rbf;, score=1.000 total time=   1.1s\n",
      "[CV 4/5] END estimator__C=0.1, estimator__gamma=0.001, estimator__kernel=rbf;, score=1.000 total time=   1.1s\n",
      "[CV 5/5] END estimator__C=0.1, estimator__gamma=0.001, estimator__kernel=rbf;, score=1.000 total time=   1.1s\n",
      "[CV 1/5] END estimator__C=0.1, estimator__gamma=0.01, estimator__kernel=rbf;, score=0.976 total time=   4.6s\n",
      "[CV 2/5] END estimator__C=0.1, estimator__gamma=0.01, estimator__kernel=rbf;, score=0.963 total time=   4.5s\n",
      "[CV 3/5] END estimator__C=0.1, estimator__gamma=0.01, estimator__kernel=rbf;, score=0.964 total time=   4.6s\n",
      "[CV 4/5] END estimator__C=0.1, estimator__gamma=0.01, estimator__kernel=rbf;, score=0.953 total time=   4.6s\n",
      "[CV 5/5] END estimator__C=0.1, estimator__gamma=0.01, estimator__kernel=rbf;, score=0.971 total time=   4.6s\n",
      "[CV 1/5] END estimator__C=0.1, estimator__gamma=0.1, estimator__kernel=rbf;, score=0.107 total time=   5.2s\n",
      "[CV 2/5] END estimator__C=0.1, estimator__gamma=0.1, estimator__kernel=rbf;, score=0.109 total time=   5.4s\n",
      "[CV 3/5] END estimator__C=0.1, estimator__gamma=0.1, estimator__kernel=rbf;, score=0.109 total time=   5.1s\n",
      "[CV 4/5] END estimator__C=0.1, estimator__gamma=0.1, estimator__kernel=rbf;, score=0.111 total time=   5.1s\n",
      "[CV 5/5] END estimator__C=0.1, estimator__gamma=0.1, estimator__kernel=rbf;, score=0.110 total time=   5.1s\n",
      "[CV 1/5] END estimator__C=0.1, estimator__gamma=1, estimator__kernel=rbf;, score=0.106 total time=   7.7s\n",
      "[CV 2/5] END estimator__C=0.1, estimator__gamma=1, estimator__kernel=rbf;, score=0.104 total time=   7.5s\n",
      "[CV 3/5] END estimator__C=0.1, estimator__gamma=1, estimator__kernel=rbf;, score=0.104 total time=   7.6s\n",
      "[CV 4/5] END estimator__C=0.1, estimator__gamma=1, estimator__kernel=rbf;, score=0.106 total time=   7.6s\n",
      "[CV 5/5] END estimator__C=0.1, estimator__gamma=1, estimator__kernel=rbf;, score=0.106 total time=   7.6s\n",
      "[CV 1/5] END estimator__C=0.1, estimator__gamma=10, estimator__kernel=rbf;, score=0.106 total time=   7.5s\n",
      "[CV 2/5] END estimator__C=0.1, estimator__gamma=10, estimator__kernel=rbf;, score=0.104 total time=   7.6s\n",
      "[CV 3/5] END estimator__C=0.1, estimator__gamma=10, estimator__kernel=rbf;, score=0.104 total time=   7.5s\n",
      "[CV 4/5] END estimator__C=0.1, estimator__gamma=10, estimator__kernel=rbf;, score=0.106 total time=   7.6s\n",
      "[CV 5/5] END estimator__C=0.1, estimator__gamma=10, estimator__kernel=rbf;, score=0.106 total time=   7.6s\n",
      "[CV 1/5] END estimator__C=0.1, estimator__gamma=1, estimator__kernel=rbf;, score=0.106 total time=   7.6s\n",
      "[CV 2/5] END estimator__C=0.1, estimator__gamma=1, estimator__kernel=rbf;, score=0.104 total time=   7.5s\n",
      "[CV 3/5] END estimator__C=0.1, estimator__gamma=1, estimator__kernel=rbf;, score=0.104 total time=   7.6s\n",
      "[CV 4/5] END estimator__C=0.1, estimator__gamma=1, estimator__kernel=rbf;, score=0.106 total time=   7.7s\n",
      "[CV 5/5] END estimator__C=0.1, estimator__gamma=1, estimator__kernel=rbf;, score=0.106 total time=   7.7s\n",
      "[CV 1/5] END estimator__C=1, estimator__gamma=0.001, estimator__kernel=rbf;, score=1.000 total time=   0.9s\n",
      "[CV 2/5] END estimator__C=1, estimator__gamma=0.001, estimator__kernel=rbf;, score=1.000 total time=   0.9s\n",
      "[CV 3/5] END estimator__C=1, estimator__gamma=0.001, estimator__kernel=rbf;, score=1.000 total time=   0.9s\n",
      "[CV 4/5] END estimator__C=1, estimator__gamma=0.001, estimator__kernel=rbf;, score=1.000 total time=   1.0s\n",
      "[CV 5/5] END estimator__C=1, estimator__gamma=0.001, estimator__kernel=rbf;, score=1.000 total time=   0.9s\n",
      "[CV 1/5] END estimator__C=1, estimator__gamma=0.01, estimator__kernel=rbf;, score=0.980 total time=   4.8s\n",
      "[CV 2/5] END estimator__C=1, estimator__gamma=0.01, estimator__kernel=rbf;, score=0.981 total time=   4.8s\n",
      "[CV 3/5] END estimator__C=1, estimator__gamma=0.01, estimator__kernel=rbf;, score=0.979 total time=   4.7s\n",
      "[CV 4/5] END estimator__C=1, estimator__gamma=0.01, estimator__kernel=rbf;, score=0.966 total time=   4.7s\n",
      "[CV 5/5] END estimator__C=1, estimator__gamma=0.01, estimator__kernel=rbf;, score=0.981 total time=   4.8s\n",
      "[CV 1/5] END estimator__C=1, estimator__gamma=0.1, estimator__kernel=rbf;, score=0.107 total time=   5.1s\n",
      "[CV 2/5] END estimator__C=1, estimator__gamma=0.1, estimator__kernel=rbf;, score=0.109 total time=   5.1s\n",
      "[CV 3/5] END estimator__C=1, estimator__gamma=0.1, estimator__kernel=rbf;, score=0.109 total time=   5.2s\n",
      "[CV 4/5] END estimator__C=1, estimator__gamma=0.1, estimator__kernel=rbf;, score=0.111 total time=   5.1s\n",
      "[CV 5/5] END estimator__C=1, estimator__gamma=0.1, estimator__kernel=rbf;, score=0.110 total time=   5.1s\n",
      "[CV 1/5] END estimator__C=1, estimator__gamma=1, estimator__kernel=rbf;, score=0.106 total time=   7.8s\n",
      "[CV 2/5] END estimator__C=1, estimator__gamma=1, estimator__kernel=rbf;, score=0.104 total time=   7.7s\n",
      "[CV 3/5] END estimator__C=1, estimator__gamma=1, estimator__kernel=rbf;, score=0.104 total time=   7.8s\n",
      "[CV 4/5] END estimator__C=1, estimator__gamma=1, estimator__kernel=rbf;, score=0.106 total time=   8.0s\n",
      "[CV 5/5] END estimator__C=1, estimator__gamma=1, estimator__kernel=rbf;, score=0.106 total time=   8.0s\n",
      "[CV 1/5] END estimator__C=1, estimator__gamma=10, estimator__kernel=rbf;, score=0.106 total time=   8.1s\n",
      "[CV 2/5] END estimator__C=1, estimator__gamma=10, estimator__kernel=rbf;, score=0.104 total time=   8.1s\n",
      "[CV 3/5] END estimator__C=1, estimator__gamma=10, estimator__kernel=rbf;, score=0.104 total time=   8.1s\n",
      "[CV 4/5] END estimator__C=1, estimator__gamma=10, estimator__kernel=rbf;, score=0.106 total time=   8.0s\n",
      "[CV 5/5] END estimator__C=1, estimator__gamma=10, estimator__kernel=rbf;, score=0.106 total time=   8.1s\n",
      "[CV 1/5] END estimator__C=1, estimator__gamma=1, estimator__kernel=rbf;, score=0.106 total time=   7.7s\n",
      "[CV 2/5] END estimator__C=1, estimator__gamma=1, estimator__kernel=rbf;, score=0.104 total time=   7.7s\n",
      "[CV 3/5] END estimator__C=1, estimator__gamma=1, estimator__kernel=rbf;, score=0.104 total time=   7.9s\n",
      "[CV 4/5] END estimator__C=1, estimator__gamma=1, estimator__kernel=rbf;, score=0.106 total time=   7.7s\n",
      "[CV 5/5] END estimator__C=1, estimator__gamma=1, estimator__kernel=rbf;, score=0.106 total time=   7.8s\n",
      "[CV 1/5] END estimator__C=10, estimator__gamma=0.001, estimator__kernel=rbf;, score=1.000 total time=   0.9s\n"
     ]
    },
    {
     "name": "stdout",
     "output_type": "stream",
     "text": [
      "[CV 2/5] END estimator__C=10, estimator__gamma=0.001, estimator__kernel=rbf;, score=1.000 total time=   0.9s\n",
      "[CV 3/5] END estimator__C=10, estimator__gamma=0.001, estimator__kernel=rbf;, score=1.000 total time=   0.9s\n",
      "[CV 4/5] END estimator__C=10, estimator__gamma=0.001, estimator__kernel=rbf;, score=1.000 total time=   1.0s\n",
      "[CV 5/5] END estimator__C=10, estimator__gamma=0.001, estimator__kernel=rbf;, score=1.000 total time=   0.9s\n",
      "[CV 1/5] END estimator__C=10, estimator__gamma=0.01, estimator__kernel=rbf;, score=0.967 total time=   4.9s\n",
      "[CV 2/5] END estimator__C=10, estimator__gamma=0.01, estimator__kernel=rbf;, score=0.969 total time=   5.0s\n",
      "[CV 3/5] END estimator__C=10, estimator__gamma=0.01, estimator__kernel=rbf;, score=0.969 total time=   4.9s\n",
      "[CV 4/5] END estimator__C=10, estimator__gamma=0.01, estimator__kernel=rbf;, score=0.959 total time=   5.0s\n",
      "[CV 5/5] END estimator__C=10, estimator__gamma=0.01, estimator__kernel=rbf;, score=0.967 total time=   4.9s\n",
      "[CV 1/5] END estimator__C=10, estimator__gamma=0.1, estimator__kernel=rbf;, score=0.107 total time=   5.5s\n",
      "[CV 2/5] END estimator__C=10, estimator__gamma=0.1, estimator__kernel=rbf;, score=0.110 total time=   5.5s\n",
      "[CV 3/5] END estimator__C=10, estimator__gamma=0.1, estimator__kernel=rbf;, score=0.109 total time=   5.5s\n",
      "[CV 4/5] END estimator__C=10, estimator__gamma=0.1, estimator__kernel=rbf;, score=0.111 total time=   5.5s\n",
      "[CV 5/5] END estimator__C=10, estimator__gamma=0.1, estimator__kernel=rbf;, score=0.110 total time=   5.4s\n",
      "[CV 1/5] END estimator__C=10, estimator__gamma=1, estimator__kernel=rbf;, score=0.106 total time=   8.0s\n",
      "[CV 2/5] END estimator__C=10, estimator__gamma=1, estimator__kernel=rbf;, score=0.104 total time=   8.4s\n",
      "[CV 3/5] END estimator__C=10, estimator__gamma=1, estimator__kernel=rbf;, score=0.104 total time=   8.6s\n",
      "[CV 4/5] END estimator__C=10, estimator__gamma=1, estimator__kernel=rbf;, score=0.106 total time=   8.1s\n",
      "[CV 5/5] END estimator__C=10, estimator__gamma=1, estimator__kernel=rbf;, score=0.106 total time=   8.2s\n",
      "[CV 1/5] END estimator__C=10, estimator__gamma=10, estimator__kernel=rbf;, score=0.106 total time=   8.0s\n",
      "[CV 2/5] END estimator__C=10, estimator__gamma=10, estimator__kernel=rbf;, score=0.104 total time=   8.2s\n",
      "[CV 3/5] END estimator__C=10, estimator__gamma=10, estimator__kernel=rbf;, score=0.104 total time=   8.2s\n",
      "[CV 4/5] END estimator__C=10, estimator__gamma=10, estimator__kernel=rbf;, score=0.106 total time=   8.2s\n",
      "[CV 5/5] END estimator__C=10, estimator__gamma=10, estimator__kernel=rbf;, score=0.106 total time=   8.1s\n",
      "[CV 1/5] END estimator__C=10, estimator__gamma=1, estimator__kernel=rbf;, score=0.106 total time=   8.1s\n",
      "[CV 2/5] END estimator__C=10, estimator__gamma=1, estimator__kernel=rbf;, score=0.104 total time=   8.0s\n",
      "[CV 3/5] END estimator__C=10, estimator__gamma=1, estimator__kernel=rbf;, score=0.104 total time=   8.1s\n",
      "[CV 4/5] END estimator__C=10, estimator__gamma=1, estimator__kernel=rbf;, score=0.106 total time=   8.2s\n",
      "[CV 5/5] END estimator__C=10, estimator__gamma=1, estimator__kernel=rbf;, score=0.106 total time=   8.1s\n",
      "[CV 1/5] END estimator__C=100, estimator__gamma=0.001, estimator__kernel=rbf;, score=1.000 total time=   0.9s\n",
      "[CV 2/5] END estimator__C=100, estimator__gamma=0.001, estimator__kernel=rbf;, score=1.000 total time=   0.9s\n",
      "[CV 3/5] END estimator__C=100, estimator__gamma=0.001, estimator__kernel=rbf;, score=1.000 total time=   0.9s\n",
      "[CV 4/5] END estimator__C=100, estimator__gamma=0.001, estimator__kernel=rbf;, score=1.000 total time=   1.0s\n",
      "[CV 5/5] END estimator__C=100, estimator__gamma=0.001, estimator__kernel=rbf;, score=1.000 total time=   0.9s\n",
      "[CV 1/5] END estimator__C=100, estimator__gamma=0.01, estimator__kernel=rbf;, score=0.967 total time=   4.9s\n",
      "[CV 2/5] END estimator__C=100, estimator__gamma=0.01, estimator__kernel=rbf;, score=0.969 total time=   4.9s\n",
      "[CV 3/5] END estimator__C=100, estimator__gamma=0.01, estimator__kernel=rbf;, score=0.969 total time=   4.9s\n",
      "[CV 4/5] END estimator__C=100, estimator__gamma=0.01, estimator__kernel=rbf;, score=0.959 total time=   5.0s\n",
      "[CV 5/5] END estimator__C=100, estimator__gamma=0.01, estimator__kernel=rbf;, score=0.967 total time=   5.0s\n",
      "[CV 1/5] END estimator__C=100, estimator__gamma=0.1, estimator__kernel=rbf;, score=0.107 total time=   5.4s\n",
      "[CV 2/5] END estimator__C=100, estimator__gamma=0.1, estimator__kernel=rbf;, score=0.110 total time=   5.5s\n",
      "[CV 3/5] END estimator__C=100, estimator__gamma=0.1, estimator__kernel=rbf;, score=0.109 total time=   5.4s\n",
      "[CV 4/5] END estimator__C=100, estimator__gamma=0.1, estimator__kernel=rbf;, score=0.111 total time=   5.5s\n",
      "[CV 5/5] END estimator__C=100, estimator__gamma=0.1, estimator__kernel=rbf;, score=0.110 total time=   5.5s\n",
      "[CV 1/5] END estimator__C=100, estimator__gamma=1, estimator__kernel=rbf;, score=0.106 total time=   8.1s\n",
      "[CV 2/5] END estimator__C=100, estimator__gamma=1, estimator__kernel=rbf;, score=0.104 total time=   8.0s\n",
      "[CV 3/5] END estimator__C=100, estimator__gamma=1, estimator__kernel=rbf;, score=0.104 total time=   8.1s\n",
      "[CV 4/5] END estimator__C=100, estimator__gamma=1, estimator__kernel=rbf;, score=0.106 total time=   8.2s\n",
      "[CV 5/5] END estimator__C=100, estimator__gamma=1, estimator__kernel=rbf;, score=0.106 total time=   8.0s\n",
      "[CV 1/5] END estimator__C=100, estimator__gamma=10, estimator__kernel=rbf;, score=0.106 total time=   8.2s\n",
      "[CV 2/5] END estimator__C=100, estimator__gamma=10, estimator__kernel=rbf;, score=0.104 total time=   7.9s\n",
      "[CV 3/5] END estimator__C=100, estimator__gamma=10, estimator__kernel=rbf;, score=0.104 total time=   8.1s\n",
      "[CV 4/5] END estimator__C=100, estimator__gamma=10, estimator__kernel=rbf;, score=0.106 total time=   8.0s\n",
      "[CV 5/5] END estimator__C=100, estimator__gamma=10, estimator__kernel=rbf;, score=0.106 total time=   8.1s\n",
      "[CV 1/5] END estimator__C=100, estimator__gamma=1, estimator__kernel=rbf;, score=0.106 total time=   7.9s\n",
      "[CV 2/5] END estimator__C=100, estimator__gamma=1, estimator__kernel=rbf;, score=0.104 total time=   8.1s\n",
      "[CV 3/5] END estimator__C=100, estimator__gamma=1, estimator__kernel=rbf;, score=0.104 total time=   8.1s\n",
      "[CV 4/5] END estimator__C=100, estimator__gamma=1, estimator__kernel=rbf;, score=0.106 total time=   8.0s\n",
      "[CV 5/5] END estimator__C=100, estimator__gamma=1, estimator__kernel=rbf;, score=0.106 total time=   7.9s\n",
      "[CV 1/5] END estimator__C=1000, estimator__gamma=0.001, estimator__kernel=rbf;, score=1.000 total time=   0.9s\n",
      "[CV 2/5] END estimator__C=1000, estimator__gamma=0.001, estimator__kernel=rbf;, score=1.000 total time=   1.0s\n",
      "[CV 3/5] END estimator__C=1000, estimator__gamma=0.001, estimator__kernel=rbf;, score=1.000 total time=   1.0s\n",
      "[CV 4/5] END estimator__C=1000, estimator__gamma=0.001, estimator__kernel=rbf;, score=1.000 total time=   0.9s\n",
      "[CV 5/5] END estimator__C=1000, estimator__gamma=0.001, estimator__kernel=rbf;, score=1.000 total time=   0.9s\n",
      "[CV 1/5] END estimator__C=1000, estimator__gamma=0.01, estimator__kernel=rbf;, score=0.967 total time=   4.9s\n",
      "[CV 2/5] END estimator__C=1000, estimator__gamma=0.01, estimator__kernel=rbf;, score=0.969 total time=   4.9s\n",
      "[CV 3/5] END estimator__C=1000, estimator__gamma=0.01, estimator__kernel=rbf;, score=0.969 total time=   5.0s\n",
      "[CV 4/5] END estimator__C=1000, estimator__gamma=0.01, estimator__kernel=rbf;, score=0.959 total time=   4.9s\n",
      "[CV 5/5] END estimator__C=1000, estimator__gamma=0.01, estimator__kernel=rbf;, score=0.967 total time=   4.9s\n",
      "[CV 1/5] END estimator__C=1000, estimator__gamma=0.1, estimator__kernel=rbf;, score=0.107 total time=   5.5s\n",
      "[CV 2/5] END estimator__C=1000, estimator__gamma=0.1, estimator__kernel=rbf;, score=0.110 total time=   5.5s\n",
      "[CV 3/5] END estimator__C=1000, estimator__gamma=0.1, estimator__kernel=rbf;, score=0.109 total time=   5.5s\n",
      "[CV 4/5] END estimator__C=1000, estimator__gamma=0.1, estimator__kernel=rbf;, score=0.111 total time=   5.6s\n",
      "[CV 5/5] END estimator__C=1000, estimator__gamma=0.1, estimator__kernel=rbf;, score=0.110 total time=   5.4s\n",
      "[CV 1/5] END estimator__C=1000, estimator__gamma=1, estimator__kernel=rbf;, score=0.106 total time=   8.2s\n",
      "[CV 2/5] END estimator__C=1000, estimator__gamma=1, estimator__kernel=rbf;, score=0.104 total time=   8.0s\n",
      "[CV 3/5] END estimator__C=1000, estimator__gamma=1, estimator__kernel=rbf;, score=0.104 total time=   8.3s\n"
     ]
    },
    {
     "name": "stdout",
     "output_type": "stream",
     "text": [
      "[CV 4/5] END estimator__C=1000, estimator__gamma=1, estimator__kernel=rbf;, score=0.106 total time=   8.2s\n",
      "[CV 5/5] END estimator__C=1000, estimator__gamma=1, estimator__kernel=rbf;, score=0.106 total time=   8.2s\n",
      "[CV 1/5] END estimator__C=1000, estimator__gamma=10, estimator__kernel=rbf;, score=0.106 total time=   8.3s\n",
      "[CV 2/5] END estimator__C=1000, estimator__gamma=10, estimator__kernel=rbf;, score=0.104 total time=   8.4s\n",
      "[CV 3/5] END estimator__C=1000, estimator__gamma=10, estimator__kernel=rbf;, score=0.104 total time=   8.3s\n",
      "[CV 4/5] END estimator__C=1000, estimator__gamma=10, estimator__kernel=rbf;, score=0.106 total time=   8.4s\n",
      "[CV 5/5] END estimator__C=1000, estimator__gamma=10, estimator__kernel=rbf;, score=0.106 total time=   8.4s\n",
      "[CV 1/5] END estimator__C=1000, estimator__gamma=1, estimator__kernel=rbf;, score=0.106 total time=   8.6s\n",
      "[CV 2/5] END estimator__C=1000, estimator__gamma=1, estimator__kernel=rbf;, score=0.104 total time=   8.3s\n",
      "[CV 3/5] END estimator__C=1000, estimator__gamma=1, estimator__kernel=rbf;, score=0.104 total time=   8.4s\n",
      "[CV 4/5] END estimator__C=1000, estimator__gamma=1, estimator__kernel=rbf;, score=0.106 total time=   8.3s\n",
      "[CV 5/5] END estimator__C=1000, estimator__gamma=1, estimator__kernel=rbf;, score=0.106 total time=   8.4s\n",
      "[CV 1/5] END estimator__C=10000, estimator__gamma=0.001, estimator__kernel=rbf;, score=1.000 total time=   1.0s\n",
      "[CV 2/5] END estimator__C=10000, estimator__gamma=0.001, estimator__kernel=rbf;, score=1.000 total time=   1.0s\n",
      "[CV 3/5] END estimator__C=10000, estimator__gamma=0.001, estimator__kernel=rbf;, score=1.000 total time=   1.0s\n",
      "[CV 4/5] END estimator__C=10000, estimator__gamma=0.001, estimator__kernel=rbf;, score=1.000 total time=   1.0s\n",
      "[CV 5/5] END estimator__C=10000, estimator__gamma=0.001, estimator__kernel=rbf;, score=1.000 total time=   1.0s\n",
      "[CV 1/5] END estimator__C=10000, estimator__gamma=0.01, estimator__kernel=rbf;, score=0.967 total time=   5.2s\n",
      "[CV 2/5] END estimator__C=10000, estimator__gamma=0.01, estimator__kernel=rbf;, score=0.969 total time=   5.1s\n",
      "[CV 3/5] END estimator__C=10000, estimator__gamma=0.01, estimator__kernel=rbf;, score=0.969 total time=   5.2s\n",
      "[CV 4/5] END estimator__C=10000, estimator__gamma=0.01, estimator__kernel=rbf;, score=0.959 total time=   5.2s\n",
      "[CV 5/5] END estimator__C=10000, estimator__gamma=0.01, estimator__kernel=rbf;, score=0.967 total time=   5.0s\n",
      "[CV 1/5] END estimator__C=10000, estimator__gamma=0.1, estimator__kernel=rbf;, score=0.107 total time=   5.6s\n",
      "[CV 2/5] END estimator__C=10000, estimator__gamma=0.1, estimator__kernel=rbf;, score=0.110 total time=   5.6s\n",
      "[CV 3/5] END estimator__C=10000, estimator__gamma=0.1, estimator__kernel=rbf;, score=0.109 total time=   5.6s\n",
      "[CV 4/5] END estimator__C=10000, estimator__gamma=0.1, estimator__kernel=rbf;, score=0.111 total time=   5.7s\n",
      "[CV 5/5] END estimator__C=10000, estimator__gamma=0.1, estimator__kernel=rbf;, score=0.110 total time=   5.7s\n",
      "[CV 1/5] END estimator__C=10000, estimator__gamma=1, estimator__kernel=rbf;, score=0.106 total time=   8.3s\n",
      "[CV 2/5] END estimator__C=10000, estimator__gamma=1, estimator__kernel=rbf;, score=0.104 total time=   8.4s\n",
      "[CV 3/5] END estimator__C=10000, estimator__gamma=1, estimator__kernel=rbf;, score=0.104 total time=   8.2s\n",
      "[CV 4/5] END estimator__C=10000, estimator__gamma=1, estimator__kernel=rbf;, score=0.106 total time=   8.4s\n",
      "[CV 5/5] END estimator__C=10000, estimator__gamma=1, estimator__kernel=rbf;, score=0.106 total time=   8.2s\n",
      "[CV 1/5] END estimator__C=10000, estimator__gamma=10, estimator__kernel=rbf;, score=0.106 total time=   8.4s\n",
      "[CV 2/5] END estimator__C=10000, estimator__gamma=10, estimator__kernel=rbf;, score=0.104 total time=   8.4s\n",
      "[CV 3/5] END estimator__C=10000, estimator__gamma=10, estimator__kernel=rbf;, score=0.104 total time=   8.4s\n",
      "[CV 4/5] END estimator__C=10000, estimator__gamma=10, estimator__kernel=rbf;, score=0.106 total time=   8.4s\n",
      "[CV 5/5] END estimator__C=10000, estimator__gamma=10, estimator__kernel=rbf;, score=0.106 total time=   8.3s\n",
      "[CV 1/5] END estimator__C=10000, estimator__gamma=1, estimator__kernel=rbf;, score=0.106 total time=   8.5s\n",
      "[CV 2/5] END estimator__C=10000, estimator__gamma=1, estimator__kernel=rbf;, score=0.104 total time=   8.3s\n",
      "[CV 3/5] END estimator__C=10000, estimator__gamma=1, estimator__kernel=rbf;, score=0.104 total time=   8.4s\n",
      "[CV 4/5] END estimator__C=10000, estimator__gamma=1, estimator__kernel=rbf;, score=0.106 total time=   8.3s\n",
      "[CV 5/5] END estimator__C=10000, estimator__gamma=1, estimator__kernel=rbf;, score=0.106 total time=   8.2s\n"
     ]
    },
    {
     "data": {
      "text/plain": [
       "GridSearchCV(estimator=OneVsRestClassifier(estimator=SVC(max_iter=100000)),\n",
       "             param_grid={'estimator__C': [0.0001, 0.001, 0.01, 0.1, 1, 10, 100,\n",
       "                                          1000, 10000],\n",
       "                         'estimator__gamma': [0.001, 0.01, 0.1, 1, 10, 1],\n",
       "                         'estimator__kernel': ['rbf']},\n",
       "             verbose=3)"
      ]
     },
     "execution_count": 35,
     "metadata": {},
     "output_type": "execute_result"
    }
   ],
   "source": [
    "grid_rbf.fit(X_train, y_train)"
   ]
  },
  {
   "cell_type": "code",
   "execution_count": 37,
   "id": "98167788",
   "metadata": {},
   "outputs": [
    {
     "data": {
      "text/plain": [
       "{'estimator__C': 0.1, 'estimator__gamma': 0.001, 'estimator__kernel': 'rbf'}"
      ]
     },
     "execution_count": 37,
     "metadata": {},
     "output_type": "execute_result"
    }
   ],
   "source": [
    "grid_rbf.best_params_"
   ]
  },
  {
   "cell_type": "code",
   "execution_count": 120,
   "id": "320e3813",
   "metadata": {},
   "outputs": [
    {
     "data": {
      "text/plain": [
       "1.0"
      ]
     },
     "execution_count": 120,
     "metadata": {},
     "output_type": "execute_result"
    }
   ],
   "source": [
    "grid_rbf.best_score_"
   ]
  },
  {
   "cell_type": "markdown",
   "id": "85eaba61",
   "metadata": {},
   "source": [
    "## Train the Support Vector Machine with Linear Kernel"
   ]
  },
  {
   "cell_type": "markdown",
   "id": "7e82a86c",
   "metadata": {},
   "source": [
    "In this section, we train a Machine Learning model using SVM as a classifier with the best parameter got from GridSearchCV"
   ]
  },
  {
   "cell_type": "code",
   "execution_count": 22,
   "id": "737d7371",
   "metadata": {},
   "outputs": [],
   "source": [
    "svm = OneVsRestClassifier(LinearSVC(C=0.1, random_state=42, max_iter=100000))"
   ]
  },
  {
   "cell_type": "code",
   "execution_count": 23,
   "id": "85504604",
   "metadata": {},
   "outputs": [
    {
     "data": {
      "text/plain": [
       "OneVsRestClassifier(estimator=LinearSVC(C=0.1, max_iter=100000,\n",
       "                                        random_state=42))"
      ]
     },
     "execution_count": 23,
     "metadata": {},
     "output_type": "execute_result"
    }
   ],
   "source": [
    "svm.fit(X_train,y_train)"
   ]
  },
  {
   "cell_type": "markdown",
   "id": "d50b4577",
   "metadata": {},
   "source": [
    "## Predictions and Evaluations"
   ]
  },
  {
   "cell_type": "markdown",
   "id": "582b7a26",
   "metadata": {},
   "source": [
    "In this section, we analyze some metrics for SVM with Linear kernel."
   ]
  },
  {
   "cell_type": "code",
   "execution_count": 24,
   "id": "0ce0c407",
   "metadata": {},
   "outputs": [],
   "source": [
    "predictions = svm.predict(X_test)"
   ]
  },
  {
   "cell_type": "code",
   "execution_count": 25,
   "id": "de7e269a",
   "metadata": {},
   "outputs": [],
   "source": [
    "from sklearn.metrics import classification_report,confusion_matrix, ConfusionMatrixDisplay"
   ]
  },
  {
   "cell_type": "code",
   "execution_count": 26,
   "id": "a5274e6f",
   "metadata": {},
   "outputs": [
    {
     "name": "stdout",
     "output_type": "stream",
     "text": [
      "              precision    recall  f1-score   support\n",
      "\n",
      "     Alfredo       1.00      1.00      1.00       164\n",
      "        Ciro       1.00      1.00      1.00       152\n",
      "    Fabrizio       1.00      1.00      1.00       155\n",
      "      Franco       1.00      1.00      1.00       154\n",
      "     Ignacio       1.00      1.00      1.00       143\n",
      "    Isabella       1.00      1.00      1.00       141\n",
      "    Jeremias       1.00      1.00      1.00       143\n",
      "     Julieta       1.00      1.00      1.00       158\n",
      "      Renata       1.00      1.00      1.00       132\n",
      "   Valentina       1.00      1.00      1.00       158\n",
      "\n",
      "    accuracy                           1.00      1500\n",
      "   macro avg       1.00      1.00      1.00      1500\n",
      "weighted avg       1.00      1.00      1.00      1500\n",
      "\n"
     ]
    }
   ],
   "source": [
    "print(classification_report(y_test,\n",
    "                            predictions,\n",
    "                            target_names=[\n",
    "                            'Alfredo',\n",
    "                            'Ciro',\n",
    "                            'Fabrizio',\n",
    "                            'Franco',\n",
    "                            'Ignacio',\n",
    "                            'Isabella',\n",
    "                            'Jeremias',\n",
    "                            'Julieta',\n",
    "                            'Renata',\n",
    "                            'Valentina']))"
   ]
  },
  {
   "cell_type": "code",
   "execution_count": 27,
   "id": "675756c6",
   "metadata": {},
   "outputs": [
    {
     "data": {
      "image/png": "[encoded data removed]",
      "text/plain": [
       "<Figure size 720x720 with 2 Axes>"
      ]
     },
     "metadata": {
      "needs_background": "light"
     },
     "output_type": "display_data"
    }
   ],
   "source": [
    "fig, ax = plt.subplots(figsize=(10, 10))\n",
    "ConfusionMatrixDisplay.from_estimator(svm,\n",
    "                                      X_test,\n",
    "                                      y_test,\n",
    "                                      display_labels=[\n",
    "                                          'Alfredo',\n",
    "                                          'Ciro',\n",
    "                                          'Fabrizio',\n",
    "                                          'Franco',\n",
    "                                          'Ignacio',\n",
    "                                          'Isabella',\n",
    "                                          'Jeremias',\n",
    "                                          'Julieta',\n",
    "                                          'Renata',\n",
    "                                          'Valentina'\n",
    "                                      ],\n",
    "                                      ax=ax)\n",
    "plt.title('Confusion Matrix for Face-Recognition')\n",
    "plt.show()"
   ]
  },
  {
   "cell_type": "markdown",
   "id": "ccefa567",
   "metadata": {},
   "source": [
    "## Save Model"
   ]
  },
  {
   "cell_type": "markdown",
   "id": "0542d81c",
   "metadata": {},
   "source": [
    "Save Machine Learning model in XML format"
   ]
  },
  {
   "cell_type": "code",
   "execution_count": 29,
   "id": "3eb60624",
   "metadata": {},
   "outputs": [],
   "source": [
    "import joblib"
   ]
  },
  {
   "cell_type": "code",
   "execution_count": 30,
   "id": "7a43e91e",
   "metadata": {},
   "outputs": [
    {
     "data": {
      "text/plain": [
       "['face_recognition.xml']"
      ]
     },
     "execution_count": 30,
     "metadata": {},
     "output_type": "execute_result"
    }
   ],
   "source": [
    "joblib.dump(svm, 'face_recognition.xml')"
   ]
  }
 ],
 "metadata": {
  "kernelspec": {
   "display_name": "Python 3 (ipykernel)",
   "language": "python",
   "name": "python3"
  },
  "language_info": {
   "codemirror_mode": {
    "name": "ipython",
    "version": 3
   },
   "file_extension": ".py",
   "mimetype": "text/x-python",
   "name": "python",
   "nbconvert_exporter": "python",
   "pygments_lexer": "ipython3",
   "version": "3.9.12"
  }
 },
 "nbformat": 4,
 "nbformat_minor": 5
}
